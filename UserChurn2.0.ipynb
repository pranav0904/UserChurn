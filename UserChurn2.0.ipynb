{
 "cells": [
  {
   "cell_type": "code",
   "execution_count": 1,
   "id": "9f27a7e5",
   "metadata": {},
   "outputs": [],
   "source": [
    "import pandas as pd\n",
    "import numpy as np\n",
    "from datetime import date\n",
    "\n",
    "from sklearn.preprocessing import OneHotEncoder\n",
    "from sklearn.model_selection import train_test_split\n",
    "from sklearn.preprocessing import StandardScaler\n",
    "from imblearn.under_sampling import RandomUnderSampler\n",
    "\n",
    "from sklearn.ensemble import RandomForestClassifier\n",
    "from sklearn.preprocessing import MinMaxScaler\n",
    "from imblearn.over_sampling import SMOTE\n",
    "from imblearn.pipeline import Pipeline as imbpipeline\n",
    "from sklearn.pipeline import Pipeline\n",
    "\n",
    "from sklearn.metrics import confusion_matrix, accuracy_score \n",
    "from sklearn.metrics import f1_score, precision_score, recall_score\n",
    "from sklearn.model_selection import cross_val_score\n",
    "from sklearn.model_selection import KFold\n",
    "\n",
    "from sklearn.metrics import classification_report, precision_recall_curve\n",
    "from sklearn.metrics import auc, roc_auc_score, roc_curve\n",
    "\n",
    "\n",
    "import random\n",
    "random.seed(20)"
   ]
  },
  {
   "cell_type": "code",
   "execution_count": 2,
   "id": "c26c612e",
   "metadata": {},
   "outputs": [],
   "source": [
    "from sklearn.decomposition import PCA"
   ]
  },
  {
   "cell_type": "code",
   "execution_count": 3,
   "id": "b8c16e25",
   "metadata": {},
   "outputs": [],
   "source": [
    "features_data = pd.read_csv(\"features_data.csv\")\n",
    "equity_value_data = pd.read_csv(\"equity_value_data.csv\")"
   ]
  },
  {
   "cell_type": "code",
   "execution_count": 4,
   "id": "185295a9",
   "metadata": {},
   "outputs": [],
   "source": [
    "'''Function to extract date in %%y-%%m-%%d'''\n",
    "def todate(timestamp):\n",
    "    \n",
    "    s = timestamp.split(\"-\")\n",
    "    year = s[0]\n",
    "    month = s[1]\n",
    "    date = s[2] \n",
    "    date = year+'-'+month+'-'+date[0]+date[1]\n",
    "    return date\n",
    "\n",
    "\n",
    "'''Function to get the difference between the dates'''\n",
    "def date_diff(date_,date1_):\n",
    "    \n",
    "    d = date_.split(\"-\")\n",
    "    d_ = date1_.split(\"-\")\n",
    "    \n",
    "    d0 = date(int(d[0]), int(d[1]), int(d[2]))\n",
    "    d1 = date(int(d_[0]), int(d_[1]), int(d_[2]))\n",
    "    delta = d1 - d0\n",
    "    return delta.days\n"
   ]
  },
  {
   "cell_type": "code",
   "execution_count": 5,
   "id": "eb5a75dc",
   "metadata": {},
   "outputs": [
    {
     "data": {
      "text/html": [
       "<div>\n",
       "<style scoped>\n",
       "    .dataframe tbody tr th:only-of-type {\n",
       "        vertical-align: middle;\n",
       "    }\n",
       "\n",
       "    .dataframe tbody tr th {\n",
       "        vertical-align: top;\n",
       "    }\n",
       "\n",
       "    .dataframe thead th {\n",
       "        text-align: right;\n",
       "    }\n",
       "</style>\n",
       "<table border=\"1\" class=\"dataframe\">\n",
       "  <thead>\n",
       "    <tr style=\"text-align: right;\">\n",
       "      <th></th>\n",
       "      <th>timestamp</th>\n",
       "      <th>close_equity</th>\n",
       "      <th>user_id</th>\n",
       "      <th>date</th>\n",
       "    </tr>\n",
       "  </thead>\n",
       "  <tbody>\n",
       "    <tr>\n",
       "      <th>0</th>\n",
       "      <td>2016-11-16T00:00:00Z</td>\n",
       "      <td>48.16</td>\n",
       "      <td>bcef4fa9b0bdf22bcf7deae708decf03</td>\n",
       "      <td>2016-11-16</td>\n",
       "    </tr>\n",
       "    <tr>\n",
       "      <th>1</th>\n",
       "      <td>2016-11-17T00:00:00Z</td>\n",
       "      <td>48.16</td>\n",
       "      <td>bcef4fa9b0bdf22bcf7deae708decf03</td>\n",
       "      <td>2016-11-17</td>\n",
       "    </tr>\n",
       "    <tr>\n",
       "      <th>2</th>\n",
       "      <td>2016-11-18T00:00:00Z</td>\n",
       "      <td>48.16</td>\n",
       "      <td>bcef4fa9b0bdf22bcf7deae708decf03</td>\n",
       "      <td>2016-11-18</td>\n",
       "    </tr>\n",
       "    <tr>\n",
       "      <th>3</th>\n",
       "      <td>2016-11-21T00:00:00Z</td>\n",
       "      <td>48.16</td>\n",
       "      <td>bcef4fa9b0bdf22bcf7deae708decf03</td>\n",
       "      <td>2016-11-21</td>\n",
       "    </tr>\n",
       "    <tr>\n",
       "      <th>4</th>\n",
       "      <td>2016-11-22T00:00:00Z</td>\n",
       "      <td>48.16</td>\n",
       "      <td>bcef4fa9b0bdf22bcf7deae708decf03</td>\n",
       "      <td>2016-11-22</td>\n",
       "    </tr>\n",
       "  </tbody>\n",
       "</table>\n",
       "</div>"
      ],
      "text/plain": [
       "              timestamp  close_equity                           user_id  \\\n",
       "0  2016-11-16T00:00:00Z         48.16  bcef4fa9b0bdf22bcf7deae708decf03   \n",
       "1  2016-11-17T00:00:00Z         48.16  bcef4fa9b0bdf22bcf7deae708decf03   \n",
       "2  2016-11-18T00:00:00Z         48.16  bcef4fa9b0bdf22bcf7deae708decf03   \n",
       "3  2016-11-21T00:00:00Z         48.16  bcef4fa9b0bdf22bcf7deae708decf03   \n",
       "4  2016-11-22T00:00:00Z         48.16  bcef4fa9b0bdf22bcf7deae708decf03   \n",
       "\n",
       "         date  \n",
       "0  2016-11-16  \n",
       "1  2016-11-17  \n",
       "2  2016-11-18  \n",
       "3  2016-11-21  \n",
       "4  2016-11-22  "
      ]
     },
     "execution_count": 5,
     "metadata": {},
     "output_type": "execute_result"
    }
   ],
   "source": [
    "'''To create date column in equity_value_data'''\n",
    "equity_value_data['date'] = equity_value_data['timestamp'].apply(todate)\n",
    "equity_value_data.head()"
   ]
  },
  {
   "cell_type": "code",
   "execution_count": 6,
   "id": "247209a4",
   "metadata": {},
   "outputs": [
    {
     "name": "stdout",
     "output_type": "stream",
     "text": [
      "Total user:  5584\n",
      "Total churn user:  279\n",
      "Percentage:  5.0 %\n",
      "Wall time: 19.6 s\n"
     ]
    }
   ],
   "source": [
    "%%time\n",
    "\n",
    "##############################################################################################################\n",
    "#####################  Calculating Churn user by applying 28 consecutive days condition  #####################\n",
    "##############################################################################################################\n",
    "\n",
    "cnt = 0\n",
    "\n",
    "#To save Churn users\n",
    "churn_user = []\n",
    "\n",
    "for i in range(len(equity_value_data['user_id'])-1):\n",
    "    \n",
    "    if equity_value_data['user_id'][i] == equity_value_data['user_id'][i+1]:\n",
    "        \n",
    "        days = date_diff(equity_value_data['date'][i],equity_value_data['date'][i+1])\n",
    "        \n",
    "        if days >=28 and (equity_value_data['user_id'][i] not in churn_user):\n",
    "            \n",
    "            churn_user.append(equity_value_data['user_id'][i])\n",
    "            cnt += 1\n",
    "\n",
    "            \n",
    "Total_User = len(features_data['user_id'])\n",
    "\n",
    "print(\"Total user: \", Total_User)\n",
    "print(\"Total churn user: \", cnt)\n",
    "print(\"Percentage: \",round(cnt / Total_User * 100, 2),\"%\")"
   ]
  },
  {
   "cell_type": "code",
   "execution_count": 7,
   "id": "9e79a9f8",
   "metadata": {},
   "outputs": [
    {
     "name": "stderr",
     "output_type": "stream",
     "text": [
      "C:\\Users\\khist\\AppData\\Local\\Temp/ipykernel_12724/2416584116.py:6: SettingWithCopyWarning: \n",
      "A value is trying to be set on a copy of a slice from a DataFrame\n",
      "\n",
      "See the caveats in the documentation: https://pandas.pydata.org/pandas-docs/stable/user_guide/indexing.html#returning-a-view-versus-a-copy\n",
      "  features_data['Churn'][i] = 0\n",
      "C:\\Users\\khist\\AppData\\Local\\Temp/ipykernel_12724/2416584116.py:8: SettingWithCopyWarning: \n",
      "A value is trying to be set on a copy of a slice from a DataFrame\n",
      "\n",
      "See the caveats in the documentation: https://pandas.pydata.org/pandas-docs/stable/user_guide/indexing.html#returning-a-view-versus-a-copy\n",
      "  features_data['Churn'][i] = 1\n"
     ]
    }
   ],
   "source": [
    "'''Adding Churn feature in the features_data'''\n",
    "\n",
    "features_data['Churn'] = 0\n",
    "for i in range(len(features_data['user_id'])):\n",
    "    if features_data['user_id'][i] not in churn_user:\n",
    "        features_data['Churn'][i] = 0\n",
    "    else:\n",
    "        features_data['Churn'][i] = 1     "
   ]
  },
  {
   "cell_type": "code",
   "execution_count": 8,
   "id": "6f76cc3f",
   "metadata": {},
   "outputs": [
    {
     "data": {
      "text/html": [
       "<div>\n",
       "<style scoped>\n",
       "    .dataframe tbody tr th:only-of-type {\n",
       "        vertical-align: middle;\n",
       "    }\n",
       "\n",
       "    .dataframe tbody tr th {\n",
       "        vertical-align: top;\n",
       "    }\n",
       "\n",
       "    .dataframe thead th {\n",
       "        text-align: right;\n",
       "    }\n",
       "</style>\n",
       "<table border=\"1\" class=\"dataframe\">\n",
       "  <thead>\n",
       "    <tr style=\"text-align: right;\">\n",
       "      <th></th>\n",
       "      <th>risk_tolerance</th>\n",
       "      <th>investment_experience</th>\n",
       "      <th>liquidity_needs</th>\n",
       "      <th>platform</th>\n",
       "      <th>time_spent</th>\n",
       "      <th>instrument_type_first_traded</th>\n",
       "      <th>first_deposit_amount</th>\n",
       "      <th>time_horizon</th>\n",
       "      <th>user_id</th>\n",
       "      <th>Churn</th>\n",
       "    </tr>\n",
       "  </thead>\n",
       "  <tbody>\n",
       "    <tr>\n",
       "      <th>0</th>\n",
       "      <td>high_risk_tolerance</td>\n",
       "      <td>limited_investment_exp</td>\n",
       "      <td>very_important_liq_need</td>\n",
       "      <td>Android</td>\n",
       "      <td>33.129417</td>\n",
       "      <td>stock</td>\n",
       "      <td>40.0</td>\n",
       "      <td>med_time_horizon</td>\n",
       "      <td>895044c23edc821881e87da749c01034</td>\n",
       "      <td>0</td>\n",
       "    </tr>\n",
       "    <tr>\n",
       "      <th>1</th>\n",
       "      <td>med_risk_tolerance</td>\n",
       "      <td>limited_investment_exp</td>\n",
       "      <td>very_important_liq_need</td>\n",
       "      <td>Android</td>\n",
       "      <td>16.573517</td>\n",
       "      <td>stock</td>\n",
       "      <td>200.0</td>\n",
       "      <td>short_time_horizon</td>\n",
       "      <td>458b1d95441ced242949deefe8e4b638</td>\n",
       "      <td>0</td>\n",
       "    </tr>\n",
       "    <tr>\n",
       "      <th>2</th>\n",
       "      <td>med_risk_tolerance</td>\n",
       "      <td>limited_investment_exp</td>\n",
       "      <td>very_important_liq_need</td>\n",
       "      <td>iOS</td>\n",
       "      <td>10.008367</td>\n",
       "      <td>stock</td>\n",
       "      <td>25.0</td>\n",
       "      <td>long_time_horizon</td>\n",
       "      <td>c7936f653d293479e034865db9bb932f</td>\n",
       "      <td>0</td>\n",
       "    </tr>\n",
       "    <tr>\n",
       "      <th>3</th>\n",
       "      <td>med_risk_tolerance</td>\n",
       "      <td>limited_investment_exp</td>\n",
       "      <td>very_important_liq_need</td>\n",
       "      <td>Android</td>\n",
       "      <td>1.031633</td>\n",
       "      <td>stock</td>\n",
       "      <td>100.0</td>\n",
       "      <td>short_time_horizon</td>\n",
       "      <td>b255d4bd6c9ba194d3a350b3e76c6393</td>\n",
       "      <td>0</td>\n",
       "    </tr>\n",
       "    <tr>\n",
       "      <th>4</th>\n",
       "      <td>high_risk_tolerance</td>\n",
       "      <td>limited_investment_exp</td>\n",
       "      <td>very_important_liq_need</td>\n",
       "      <td>Android</td>\n",
       "      <td>8.187250</td>\n",
       "      <td>stock</td>\n",
       "      <td>20.0</td>\n",
       "      <td>long_time_horizon</td>\n",
       "      <td>4a168225e89375b8de605cbc0977ae91</td>\n",
       "      <td>0</td>\n",
       "    </tr>\n",
       "  </tbody>\n",
       "</table>\n",
       "</div>"
      ],
      "text/plain": [
       "        risk_tolerance   investment_experience          liquidity_needs  \\\n",
       "0  high_risk_tolerance  limited_investment_exp  very_important_liq_need   \n",
       "1   med_risk_tolerance  limited_investment_exp  very_important_liq_need   \n",
       "2   med_risk_tolerance  limited_investment_exp  very_important_liq_need   \n",
       "3   med_risk_tolerance  limited_investment_exp  very_important_liq_need   \n",
       "4  high_risk_tolerance  limited_investment_exp  very_important_liq_need   \n",
       "\n",
       "  platform  time_spent instrument_type_first_traded  first_deposit_amount  \\\n",
       "0  Android   33.129417                        stock                  40.0   \n",
       "1  Android   16.573517                        stock                 200.0   \n",
       "2      iOS   10.008367                        stock                  25.0   \n",
       "3  Android    1.031633                        stock                 100.0   \n",
       "4  Android    8.187250                        stock                  20.0   \n",
       "\n",
       "         time_horizon                           user_id  Churn  \n",
       "0    med_time_horizon  895044c23edc821881e87da749c01034      0  \n",
       "1  short_time_horizon  458b1d95441ced242949deefe8e4b638      0  \n",
       "2   long_time_horizon  c7936f653d293479e034865db9bb932f      0  \n",
       "3  short_time_horizon  b255d4bd6c9ba194d3a350b3e76c6393      0  \n",
       "4   long_time_horizon  4a168225e89375b8de605cbc0977ae91      0  "
      ]
     },
     "execution_count": 8,
     "metadata": {},
     "output_type": "execute_result"
    }
   ],
   "source": [
    "features_data.head()"
   ]
  },
  {
   "cell_type": "code",
   "execution_count": 9,
   "id": "710cf8f8",
   "metadata": {},
   "outputs": [
    {
     "data": {
      "text/plain": [
       "Index(['risk_tolerance', 'investment_experience', 'liquidity_needs',\n",
       "       'platform', 'time_spent', 'instrument_type_first_traded',\n",
       "       'first_deposit_amount', 'time_horizon', 'user_id', 'Churn'],\n",
       "      dtype='object')"
      ]
     },
     "execution_count": 9,
     "metadata": {},
     "output_type": "execute_result"
    }
   ],
   "source": [
    "data = features_data.copy()\n",
    "data.columns"
   ]
  },
  {
   "cell_type": "code",
   "execution_count": 10,
   "id": "4ba7cab5",
   "metadata": {},
   "outputs": [],
   "source": [
    "data.drop('user_id',axis = 1, inplace= True)"
   ]
  },
  {
   "cell_type": "code",
   "execution_count": 11,
   "id": "57df1558",
   "metadata": {},
   "outputs": [
    {
     "name": "stdout",
     "output_type": "stream",
     "text": [
      "0    5305\n",
      "1     279\n",
      "Name: Churn, dtype: int64\n"
     ]
    }
   ],
   "source": [
    "print(data[\"Churn\"].value_counts())"
   ]
  },
  {
   "cell_type": "code",
   "execution_count": 12,
   "id": "60d33af5",
   "metadata": {},
   "outputs": [],
   "source": [
    "df = pd.get_dummies(data, prefix=['Tolerance_','Exp_',\"liq_\",'pltform_','first_traded','time_'])"
   ]
  },
  {
   "cell_type": "code",
   "execution_count": 13,
   "id": "6ae2c456",
   "metadata": {},
   "outputs": [],
   "source": [
    "### Train-Test Split:\n",
    "\n",
    "Y = df[\"Churn\"]\n",
    "X = df.drop(columns=\"Churn\")\n",
    "\n",
    "X_train, X_test, y_train, y_test = train_test_split(X, Y,stratify=Y, test_size = 0.2,random_state=20)\n",
    "\n",
    "\n",
    "### Scaling:\n",
    "\n",
    "sc_X = StandardScaler()\n",
    "X_train2 = pd.DataFrame(sc_X.fit_transform(X_train))\n",
    "X_train2.columns = X_train.columns.values\n",
    "X_train2.index = X_train.index.values\n",
    "X_train = X_train2\n",
    "\n",
    "X_test2 = pd.DataFrame(sc_X.transform(X_test))\n",
    "X_test2.columns = X_test.columns.values\n",
    "X_test2.index = X_test.index.values\n",
    "X_test = X_test2"
   ]
  },
  {
   "cell_type": "code",
   "execution_count": 14,
   "id": "69c19aa2",
   "metadata": {},
   "outputs": [],
   "source": [
    "def evaluate(y_test, y_pred):\n",
    "    #Evaluate results\n",
    "    AUC = roc_auc_score(y_test, y_pred)\n",
    "    acc = accuracy_score(y_test, y_pred )\n",
    "    prec = precision_score(y_test, y_pred )\n",
    "    rec = recall_score(y_test, y_pred )\n",
    "    f1 = f1_score(y_test, y_pred )\n",
    "    \n",
    "    model_results = pd.DataFrame([['Random Forest', AUC, acc, prec, rec, f1]], columns = ['Model', 'AUC','Accuracy', \n",
    "                                                                                      'Precision', 'Recall', 'F1 Score'])\n",
    "    results = model_results.sort_values([\"AUC\",\"Precision\", \"Recall\"], ascending = False)\n",
    "    \n",
    "    return results\n"
   ]
  },
  {
   "cell_type": "code",
   "execution_count": 15,
   "id": "5a5225f2",
   "metadata": {},
   "outputs": [],
   "source": [
    "RF_cl = RandomForestClassifier(n_estimators = 72, criterion = 'entropy', class_weight='balanced' , max_depth=5,random_state = 0)"
   ]
  },
  {
   "cell_type": "code",
   "execution_count": 16,
   "id": "a0b58dab",
   "metadata": {},
   "outputs": [
    {
     "name": "stdout",
     "output_type": "stream",
     "text": [
      "           Model       AUC  Accuracy  Precision    Recall  F1 Score\n",
      "0  Random Forest  0.566438  0.770815   0.079832  0.339286  0.129252\n",
      "              precision    recall  f1-score   support\n",
      "\n",
      "           0       0.96      0.79      0.87      1061\n",
      "           1       0.08      0.34      0.13        56\n",
      "\n",
      "    accuracy                           0.77      1117\n",
      "   macro avg       0.52      0.57      0.50      1117\n",
      "weighted avg       0.91      0.77      0.83      1117\n",
      "\n"
     ]
    }
   ],
   "source": [
    "RF_cl.fit(X_train, y_train)\n",
    "\n",
    "# Predicting the Test set results \n",
    "y_pred = RF_cl.predict(X_test)\n",
    "print (evaluate(y_test, y_pred))\n",
    "\n",
    "print(classification_report(y_test, y_pred))"
   ]
  },
  {
   "cell_type": "code",
   "execution_count": 17,
   "id": "9f92e8a2",
   "metadata": {},
   "outputs": [],
   "source": [
    "RF_cl = RandomForestClassifier(n_estimators = 150, criterion = 'entropy', class_weight= 'balanced' , max_depth=10)"
   ]
  },
  {
   "cell_type": "code",
   "execution_count": 18,
   "id": "b3ab4692",
   "metadata": {},
   "outputs": [
    {
     "name": "stdout",
     "output_type": "stream",
     "text": [
      "           Model       AUC  Accuracy  Precision    Recall  F1 Score\n",
      "0  Random Forest  0.554413  0.892569   0.119048  0.178571  0.142857\n",
      "              precision    recall  f1-score   support\n",
      "\n",
      "           0       0.96      0.93      0.94      1061\n",
      "           1       0.12      0.18      0.14        56\n",
      "\n",
      "    accuracy                           0.89      1117\n",
      "   macro avg       0.54      0.55      0.54      1117\n",
      "weighted avg       0.91      0.89      0.90      1117\n",
      "\n"
     ]
    }
   ],
   "source": [
    "RF_cl.fit(X_train, y_train)\n",
    "\n",
    "# Predicting the Test set results \n",
    "y_pred = RF_cl.predict(X_test)\n",
    "\n",
    "print (evaluate(y_test, y_pred))\n",
    "\n",
    "print(classification_report(y_test, y_pred))"
   ]
  },
  {
   "cell_type": "code",
   "execution_count": 19,
   "id": "2e34f01b",
   "metadata": {},
   "outputs": [],
   "source": [
    "from sklearn.feature_selection import RFECV"
   ]
  },
  {
   "cell_type": "code",
   "execution_count": 20,
   "id": "993b8b46",
   "metadata": {},
   "outputs": [
    {
     "name": "stdout",
     "output_type": "stream",
     "text": [
      "           Model       AUC  Accuracy  Precision    Recall  F1 Score\n",
      "0  Random Forest  0.535613  0.888988   0.095238  0.142857  0.114286\n",
      "              precision    recall  f1-score   support\n",
      "\n",
      "           0       0.95      0.93      0.94      1061\n",
      "           1       0.10      0.14      0.11        56\n",
      "\n",
      "    accuracy                           0.89      1117\n",
      "   macro avg       0.52      0.54      0.53      1117\n",
      "weighted avg       0.91      0.89      0.90      1117\n",
      "\n"
     ]
    }
   ],
   "source": [
    "selector = RFECV(RF_cl, step=1, min_features_to_select=15 ,cv=5, scoring='recall')\n",
    "selector = selector.fit(X_train, y_train)\n",
    "\n",
    "y_pred = selector.predict(X_test)\n",
    "print (evaluate(y_test, y_pred))\n",
    "print(classification_report(y_test, y_pred))"
   ]
  },
  {
   "cell_type": "code",
   "execution_count": 21,
   "id": "c47f4549",
   "metadata": {},
   "outputs": [
    {
     "name": "stdout",
     "output_type": "stream",
     "text": [
      "Shape of X before SMOTE: (4467, 29) Shape of X after SMOTE: (446, 29)\n",
      "Shape of X before SMOTE: (4467,) Shape of X after SMOTE: (446,)\n",
      "\n",
      "Balance of positive and negative classes (%):\n"
     ]
    },
    {
     "data": {
      "text/plain": [
       "0    50.0\n",
       "1    50.0\n",
       "Name: Churn, dtype: float64"
      ]
     },
     "execution_count": 21,
     "metadata": {},
     "output_type": "execute_result"
    }
   ],
   "source": [
    "rus = RandomUnderSampler() \n",
    "\n",
    "# resampling X, y\n",
    "X_rus, y_rus = rus.fit_resample(X_train, y_train)\n",
    "\n",
    "\n",
    "print(f'''Shape of X before SMOTE: {X_train.shape} Shape of X after SMOTE: {X_rus.shape}''')\n",
    "print(f'''Shape of X before SMOTE: {y_train.shape} Shape of X after SMOTE: {y_rus.shape}''')\n",
    "\n",
    "print('\\nBalance of positive and negative classes (%):')\n",
    "y_rus.value_counts(normalize=True) * 100"
   ]
  },
  {
   "cell_type": "code",
   "execution_count": 22,
   "id": "50937b72",
   "metadata": {},
   "outputs": [
    {
     "name": "stdout",
     "output_type": "stream",
     "text": [
      "           Model       AUC  Accuracy  Precision  Recall  F1 Score\n",
      "0  Random Forest  0.542648  0.581021   0.059829     0.5   0.10687\n",
      "              precision    recall  f1-score   support\n",
      "\n",
      "           0       0.96      0.59      0.73      1061\n",
      "           1       0.06      0.50      0.11        56\n",
      "\n",
      "    accuracy                           0.58      1117\n",
      "   macro avg       0.51      0.54      0.42      1117\n",
      "weighted avg       0.91      0.58      0.70      1117\n",
      "\n"
     ]
    }
   ],
   "source": [
    "selector = RFECV(RF_cl, step=1, min_features_to_select=15 ,cv=5, scoring='recall')\n",
    "selector = selector.fit(X_rus, y_rus)\n",
    "\n",
    "y_pred = selector.predict(X_test)\n",
    "print (evaluate(y_test, y_pred))\n",
    "print(classification_report(y_test, y_pred))"
   ]
  },
  {
   "cell_type": "code",
   "execution_count": 23,
   "id": "52599ffd",
   "metadata": {},
   "outputs": [],
   "source": [
    "RF_cl = RandomForestClassifier(n_estimators = 150, criterion = 'entropy' , max_depth=25)"
   ]
  },
  {
   "cell_type": "code",
   "execution_count": 24,
   "id": "d3d9f497",
   "metadata": {},
   "outputs": [
    {
     "name": "stdout",
     "output_type": "stream",
     "text": [
      "           Model       AUC  Accuracy  Precision    Recall  F1 Score\n",
      "0  Random Forest  0.534612  0.549687   0.057426  0.517857  0.103387\n",
      "              precision    recall  f1-score   support\n",
      "\n",
      "           0       0.96      0.55      0.70      1061\n",
      "           1       0.06      0.52      0.10        56\n",
      "\n",
      "    accuracy                           0.55      1117\n",
      "   macro avg       0.51      0.53      0.40      1117\n",
      "weighted avg       0.91      0.55      0.67      1117\n",
      "\n"
     ]
    }
   ],
   "source": [
    "selector = RFECV(RF_cl, step=2, min_features_to_select=20 ,cv=5, scoring='recall')\n",
    "selector = selector.fit(X_rus, y_rus)\n",
    "\n",
    "y_pred = selector.predict(X_test)\n",
    "print (evaluate(y_test, y_pred))\n",
    "print(classification_report(y_test, y_pred))"
   ]
  },
  {
   "cell_type": "code",
   "execution_count": 25,
   "id": "b9f18310",
   "metadata": {},
   "outputs": [],
   "source": [
    "from sklearn.decomposition import PCA\n",
    "pca = PCA(n_components=3)\n",
    "X_trn = pca.fit_transform(X_rus)\n",
    "X_tst = pca.fit_transform(X_test)"
   ]
  },
  {
   "cell_type": "code",
   "execution_count": 26,
   "id": "18609a15",
   "metadata": {},
   "outputs": [],
   "source": [
    "#pca = PCA(.95)\n",
    "\n",
    "#trainX = PCA.transform(X_train)\n",
    "#testX = PCA.transform(X_test)"
   ]
  },
  {
   "cell_type": "code",
   "execution_count": 27,
   "id": "19a03460",
   "metadata": {},
   "outputs": [
    {
     "name": "stdout",
     "output_type": "stream",
     "text": [
      "           Model       AUC  Accuracy  Precision    Recall  F1 Score\n",
      "0  Random Forest  0.459582  0.342883   0.044355  0.589286    0.0825\n",
      "              precision    recall  f1-score   support\n",
      "\n",
      "           0       0.94      0.33      0.49      1061\n",
      "           1       0.04      0.59      0.08        56\n",
      "\n",
      "    accuracy                           0.34      1117\n",
      "   macro avg       0.49      0.46      0.29      1117\n",
      "weighted avg       0.89      0.34      0.47      1117\n",
      "\n"
     ]
    }
   ],
   "source": [
    "selector = RFECV(RF_cl, step=2, min_features_to_select=25 ,cv=5, scoring='recall')\n",
    "selector = selector.fit(X_trn, y_rus)\n",
    "\n",
    "y_pred = selector.predict(X_tst)\n",
    "print (evaluate(y_test, y_pred))\n",
    "print(classification_report(y_test, y_pred))"
   ]
  },
  {
   "cell_type": "code",
   "execution_count": null,
   "id": "efafa09c",
   "metadata": {},
   "outputs": [],
   "source": []
  },
  {
   "cell_type": "code",
   "execution_count": null,
   "id": "987ca10a",
   "metadata": {},
   "outputs": [],
   "source": []
  }
 ],
 "metadata": {
  "kernelspec": {
   "display_name": "Python 3 (ipykernel)",
   "language": "python",
   "name": "python3"
  },
  "language_info": {
   "codemirror_mode": {
    "name": "ipython",
    "version": 3
   },
   "file_extension": ".py",
   "mimetype": "text/x-python",
   "name": "python",
   "nbconvert_exporter": "python",
   "pygments_lexer": "ipython3",
   "version": "3.9.7"
  }
 },
 "nbformat": 4,
 "nbformat_minor": 5
}
