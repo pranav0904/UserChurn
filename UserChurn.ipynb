{
 "cells": [
  {
   "cell_type": "markdown",
   "id": "a8204e52",
   "metadata": {},
   "source": [
    "# Abstract:\n",
    " Build a Predictive model to classify Churn user based on given features."
   ]
  },
  {
   "cell_type": "markdown",
   "id": "3a336f21",
   "metadata": {},
   "source": [
    "# Index of notebook:\n",
    "\n",
    "1. Data Processing\n",
    "2. Exploratory Data Analysis\n",
    "3. Modeling\n",
    "    - 3.1. Baseline Models\n",
    "    - 3.2. Handling imbalanced data    \n",
    "    - 3.3. Model Tuning\n",
    "    - 3.4. Baseline Models Performance\n",
    "4. Model Statistics\n",
    "    - 4.1. Statistics by class\n",
    "    - 4.2. Confusion matrix\n",
    "5. Feature Importance\n",
    "6. Conclusion\n"
   ]
  },
  {
   "cell_type": "markdown",
   "id": "8b143b1f",
   "metadata": {},
   "source": [
    "## 1. Data Processing:"
   ]
  },
  {
   "cell_type": "code",
   "execution_count": 1,
   "id": "81e9db4e",
   "metadata": {},
   "outputs": [],
   "source": [
    "import pandas as pd\n",
    "import numpy as np\n",
    "from datetime import date\n",
    "\n",
    "# sklearn modules for data preprocessing:\n",
    "from sklearn.preprocessing import LabelEncoder, OneHotEncoder\n",
    "from sklearn.preprocessing import OneHotEncoder\n",
    "from sklearn.model_selection import train_test_split\n",
    "from sklearn.preprocessing import StandardScaler\n",
    "from imblearn.under_sampling import RandomUnderSampler\n",
    "\n",
    "#Model Selection:\n",
    "from sklearn import naive_bayes, ensemble, gaussian_process\n",
    "from sklearn.linear_model import LogisticRegression\n",
    "from sklearn.naive_bayes import GaussianNB\n",
    "from sklearn.tree import DecisionTreeClassifier\n",
    "from sklearn.ensemble import RandomForestClassifier\n",
    "from sklearn.model_selection import RandomizedSearchCV\n",
    "\n",
    "#sklearn modules for Model Evaluation & Improvement:\n",
    "from sklearn.model_selection import train_test_split, GridSearchCV, StratifiedKFold\n",
    "from sklearn.preprocessing import MinMaxScaler\n",
    "from imblearn.over_sampling import SMOTE\n",
    "from imblearn.pipeline import Pipeline as imbpipeline\n",
    "from sklearn.pipeline import Pipeline\n",
    "\n",
    "from sklearn.metrics import confusion_matrix, accuracy_score \n",
    "from sklearn.metrics import f1_score, precision_score, recall_score\n",
    "from sklearn.model_selection import cross_val_score\n",
    "from sklearn.model_selection import KFold\n",
    "from sklearn import feature_selection\n",
    "from sklearn import model_selection\n",
    "\n",
    "from sklearn.metrics import classification_report, precision_recall_curve\n",
    "from sklearn.metrics import auc, roc_auc_score, roc_curve\n",
    "\n",
    "\n",
    "#Standard libraries for data visualization:\n",
    "import seaborn as sn\n",
    "from matplotlib import pyplot\n",
    "import matplotlib.pyplot as plt\n",
    "import matplotlib.pylab as pylab\n",
    "import matplotlib \n",
    "%matplotlib inline\n",
    "\n",
    "\n",
    "import random\n",
    "random.seed(20)"
   ]
  },
  {
   "cell_type": "code",
   "execution_count": 2,
   "id": "d7950c11",
   "metadata": {},
   "outputs": [],
   "source": [
    "features_data = pd.read_csv(\"features_data.csv\")\n",
    "equity_value_data = pd.read_csv(\"equity_value_data.csv\")"
   ]
  },
  {
   "cell_type": "code",
   "execution_count": 3,
   "id": "ae077b18",
   "metadata": {},
   "outputs": [],
   "source": [
    "'''Function to extract date in %%y-%%m-%%d'''\n",
    "def todate(timestamp):\n",
    "    \n",
    "    s = timestamp.split(\"-\")\n",
    "    year = s[0]\n",
    "    month = s[1]\n",
    "    date = s[2] \n",
    "    date = year+'-'+month+'-'+date[0]+date[1]\n",
    "    return date\n",
    "\n",
    "\n",
    "'''Function to get the difference between the dates'''\n",
    "def date_diff(date_,date1_):\n",
    "    \n",
    "    d = date_.split(\"-\")\n",
    "    d_ = date1_.split(\"-\")\n",
    "    \n",
    "    d0 = date(int(d[0]), int(d[1]), int(d[2]))\n",
    "    d1 = date(int(d_[0]), int(d_[1]), int(d_[2]))\n",
    "    delta = d1 - d0\n",
    "    return delta.days\n"
   ]
  },
  {
   "cell_type": "code",
   "execution_count": 4,
   "id": "e91270c0",
   "metadata": {},
   "outputs": [
    {
     "data": {
      "text/html": [
       "<div>\n",
       "<style scoped>\n",
       "    .dataframe tbody tr th:only-of-type {\n",
       "        vertical-align: middle;\n",
       "    }\n",
       "\n",
       "    .dataframe tbody tr th {\n",
       "        vertical-align: top;\n",
       "    }\n",
       "\n",
       "    .dataframe thead th {\n",
       "        text-align: right;\n",
       "    }\n",
       "</style>\n",
       "<table border=\"1\" class=\"dataframe\">\n",
       "  <thead>\n",
       "    <tr style=\"text-align: right;\">\n",
       "      <th></th>\n",
       "      <th>timestamp</th>\n",
       "      <th>close_equity</th>\n",
       "      <th>user_id</th>\n",
       "      <th>date</th>\n",
       "    </tr>\n",
       "  </thead>\n",
       "  <tbody>\n",
       "    <tr>\n",
       "      <th>0</th>\n",
       "      <td>2016-11-16T00:00:00Z</td>\n",
       "      <td>48.16</td>\n",
       "      <td>bcef4fa9b0bdf22bcf7deae708decf03</td>\n",
       "      <td>2016-11-16</td>\n",
       "    </tr>\n",
       "    <tr>\n",
       "      <th>1</th>\n",
       "      <td>2016-11-17T00:00:00Z</td>\n",
       "      <td>48.16</td>\n",
       "      <td>bcef4fa9b0bdf22bcf7deae708decf03</td>\n",
       "      <td>2016-11-17</td>\n",
       "    </tr>\n",
       "    <tr>\n",
       "      <th>2</th>\n",
       "      <td>2016-11-18T00:00:00Z</td>\n",
       "      <td>48.16</td>\n",
       "      <td>bcef4fa9b0bdf22bcf7deae708decf03</td>\n",
       "      <td>2016-11-18</td>\n",
       "    </tr>\n",
       "    <tr>\n",
       "      <th>3</th>\n",
       "      <td>2016-11-21T00:00:00Z</td>\n",
       "      <td>48.16</td>\n",
       "      <td>bcef4fa9b0bdf22bcf7deae708decf03</td>\n",
       "      <td>2016-11-21</td>\n",
       "    </tr>\n",
       "    <tr>\n",
       "      <th>4</th>\n",
       "      <td>2016-11-22T00:00:00Z</td>\n",
       "      <td>48.16</td>\n",
       "      <td>bcef4fa9b0bdf22bcf7deae708decf03</td>\n",
       "      <td>2016-11-22</td>\n",
       "    </tr>\n",
       "  </tbody>\n",
       "</table>\n",
       "</div>"
      ],
      "text/plain": [
       "              timestamp  close_equity                           user_id  \\\n",
       "0  2016-11-16T00:00:00Z         48.16  bcef4fa9b0bdf22bcf7deae708decf03   \n",
       "1  2016-11-17T00:00:00Z         48.16  bcef4fa9b0bdf22bcf7deae708decf03   \n",
       "2  2016-11-18T00:00:00Z         48.16  bcef4fa9b0bdf22bcf7deae708decf03   \n",
       "3  2016-11-21T00:00:00Z         48.16  bcef4fa9b0bdf22bcf7deae708decf03   \n",
       "4  2016-11-22T00:00:00Z         48.16  bcef4fa9b0bdf22bcf7deae708decf03   \n",
       "\n",
       "         date  \n",
       "0  2016-11-16  \n",
       "1  2016-11-17  \n",
       "2  2016-11-18  \n",
       "3  2016-11-21  \n",
       "4  2016-11-22  "
      ]
     },
     "execution_count": 4,
     "metadata": {},
     "output_type": "execute_result"
    }
   ],
   "source": [
    "'''To create date column in equity_value_data'''\n",
    "equity_value_data['date'] = equity_value_data['timestamp'].apply(todate)\n",
    "equity_value_data.head()"
   ]
  },
  {
   "cell_type": "code",
   "execution_count": 5,
   "id": "a5032774",
   "metadata": {},
   "outputs": [
    {
     "name": "stdout",
     "output_type": "stream",
     "text": [
      "Total user:  5584\n",
      "Total churn user:  279\n",
      "Percentage:  5.0 %\n",
      "Wall time: 18 s\n"
     ]
    }
   ],
   "source": [
    "%%time\n",
    "\n",
    "##############################################################################################################\n",
    "#####################  Calculating Churn user by applying 28 consecutive days condition  #####################\n",
    "##############################################################################################################\n",
    "\n",
    "cnt = 0\n",
    "\n",
    "#To save Churn users\n",
    "churn_user = []\n",
    "\n",
    "for i in range(len(equity_value_data['user_id'])-1):\n",
    "    \n",
    "    if equity_value_data['user_id'][i] == equity_value_data['user_id'][i+1]:\n",
    "        \n",
    "        days = date_diff(equity_value_data['date'][i],equity_value_data['date'][i+1])\n",
    "        \n",
    "        if days >=28 and (equity_value_data['user_id'][i] not in churn_user):\n",
    "            \n",
    "            churn_user.append(equity_value_data['user_id'][i])\n",
    "            cnt += 1\n",
    "\n",
    "            \n",
    "Total_User = len(features_data['user_id'])\n",
    "\n",
    "print(\"Total user: \", Total_User)\n",
    "print(\"Total churn user: \", cnt)\n",
    "print(\"Percentage: \",round(cnt / Total_User * 100, 2),\"%\")"
   ]
  },
  {
   "cell_type": "markdown",
   "id": "382a95f2",
   "metadata": {},
   "source": [
    " "
   ]
  },
  {
   "cell_type": "code",
   "execution_count": 6,
   "id": "b7894ee7",
   "metadata": {},
   "outputs": [
    {
     "name": "stderr",
     "output_type": "stream",
     "text": [
      "C:\\Users\\khist\\AppData\\Local\\Temp/ipykernel_9692/2416584116.py:6: SettingWithCopyWarning: \n",
      "A value is trying to be set on a copy of a slice from a DataFrame\n",
      "\n",
      "See the caveats in the documentation: https://pandas.pydata.org/pandas-docs/stable/user_guide/indexing.html#returning-a-view-versus-a-copy\n",
      "  features_data['Churn'][i] = 0\n",
      "C:\\Users\\khist\\AppData\\Local\\Temp/ipykernel_9692/2416584116.py:8: SettingWithCopyWarning: \n",
      "A value is trying to be set on a copy of a slice from a DataFrame\n",
      "\n",
      "See the caveats in the documentation: https://pandas.pydata.org/pandas-docs/stable/user_guide/indexing.html#returning-a-view-versus-a-copy\n",
      "  features_data['Churn'][i] = 1\n"
     ]
    }
   ],
   "source": [
    "'''Adding Churn feature in the features_data'''\n",
    "\n",
    "features_data['Churn'] = 0\n",
    "for i in range(len(features_data['user_id'])):\n",
    "    if features_data['user_id'][i] not in churn_user:\n",
    "        features_data['Churn'][i] = 0\n",
    "    else:\n",
    "        features_data['Churn'][i] = 1     "
   ]
  },
  {
   "cell_type": "code",
   "execution_count": 7,
   "id": "80ad2194",
   "metadata": {},
   "outputs": [
    {
     "data": {
      "text/html": [
       "<div>\n",
       "<style scoped>\n",
       "    .dataframe tbody tr th:only-of-type {\n",
       "        vertical-align: middle;\n",
       "    }\n",
       "\n",
       "    .dataframe tbody tr th {\n",
       "        vertical-align: top;\n",
       "    }\n",
       "\n",
       "    .dataframe thead th {\n",
       "        text-align: right;\n",
       "    }\n",
       "</style>\n",
       "<table border=\"1\" class=\"dataframe\">\n",
       "  <thead>\n",
       "    <tr style=\"text-align: right;\">\n",
       "      <th></th>\n",
       "      <th>risk_tolerance</th>\n",
       "      <th>investment_experience</th>\n",
       "      <th>liquidity_needs</th>\n",
       "      <th>platform</th>\n",
       "      <th>time_spent</th>\n",
       "      <th>instrument_type_first_traded</th>\n",
       "      <th>first_deposit_amount</th>\n",
       "      <th>time_horizon</th>\n",
       "      <th>user_id</th>\n",
       "      <th>Churn</th>\n",
       "    </tr>\n",
       "  </thead>\n",
       "  <tbody>\n",
       "    <tr>\n",
       "      <th>0</th>\n",
       "      <td>high_risk_tolerance</td>\n",
       "      <td>limited_investment_exp</td>\n",
       "      <td>very_important_liq_need</td>\n",
       "      <td>Android</td>\n",
       "      <td>33.129417</td>\n",
       "      <td>stock</td>\n",
       "      <td>40.0</td>\n",
       "      <td>med_time_horizon</td>\n",
       "      <td>895044c23edc821881e87da749c01034</td>\n",
       "      <td>0</td>\n",
       "    </tr>\n",
       "    <tr>\n",
       "      <th>1</th>\n",
       "      <td>med_risk_tolerance</td>\n",
       "      <td>limited_investment_exp</td>\n",
       "      <td>very_important_liq_need</td>\n",
       "      <td>Android</td>\n",
       "      <td>16.573517</td>\n",
       "      <td>stock</td>\n",
       "      <td>200.0</td>\n",
       "      <td>short_time_horizon</td>\n",
       "      <td>458b1d95441ced242949deefe8e4b638</td>\n",
       "      <td>0</td>\n",
       "    </tr>\n",
       "    <tr>\n",
       "      <th>2</th>\n",
       "      <td>med_risk_tolerance</td>\n",
       "      <td>limited_investment_exp</td>\n",
       "      <td>very_important_liq_need</td>\n",
       "      <td>iOS</td>\n",
       "      <td>10.008367</td>\n",
       "      <td>stock</td>\n",
       "      <td>25.0</td>\n",
       "      <td>long_time_horizon</td>\n",
       "      <td>c7936f653d293479e034865db9bb932f</td>\n",
       "      <td>0</td>\n",
       "    </tr>\n",
       "    <tr>\n",
       "      <th>3</th>\n",
       "      <td>med_risk_tolerance</td>\n",
       "      <td>limited_investment_exp</td>\n",
       "      <td>very_important_liq_need</td>\n",
       "      <td>Android</td>\n",
       "      <td>1.031633</td>\n",
       "      <td>stock</td>\n",
       "      <td>100.0</td>\n",
       "      <td>short_time_horizon</td>\n",
       "      <td>b255d4bd6c9ba194d3a350b3e76c6393</td>\n",
       "      <td>0</td>\n",
       "    </tr>\n",
       "    <tr>\n",
       "      <th>4</th>\n",
       "      <td>high_risk_tolerance</td>\n",
       "      <td>limited_investment_exp</td>\n",
       "      <td>very_important_liq_need</td>\n",
       "      <td>Android</td>\n",
       "      <td>8.187250</td>\n",
       "      <td>stock</td>\n",
       "      <td>20.0</td>\n",
       "      <td>long_time_horizon</td>\n",
       "      <td>4a168225e89375b8de605cbc0977ae91</td>\n",
       "      <td>0</td>\n",
       "    </tr>\n",
       "  </tbody>\n",
       "</table>\n",
       "</div>"
      ],
      "text/plain": [
       "        risk_tolerance   investment_experience          liquidity_needs  \\\n",
       "0  high_risk_tolerance  limited_investment_exp  very_important_liq_need   \n",
       "1   med_risk_tolerance  limited_investment_exp  very_important_liq_need   \n",
       "2   med_risk_tolerance  limited_investment_exp  very_important_liq_need   \n",
       "3   med_risk_tolerance  limited_investment_exp  very_important_liq_need   \n",
       "4  high_risk_tolerance  limited_investment_exp  very_important_liq_need   \n",
       "\n",
       "  platform  time_spent instrument_type_first_traded  first_deposit_amount  \\\n",
       "0  Android   33.129417                        stock                  40.0   \n",
       "1  Android   16.573517                        stock                 200.0   \n",
       "2      iOS   10.008367                        stock                  25.0   \n",
       "3  Android    1.031633                        stock                 100.0   \n",
       "4  Android    8.187250                        stock                  20.0   \n",
       "\n",
       "         time_horizon                           user_id  Churn  \n",
       "0    med_time_horizon  895044c23edc821881e87da749c01034      0  \n",
       "1  short_time_horizon  458b1d95441ced242949deefe8e4b638      0  \n",
       "2   long_time_horizon  c7936f653d293479e034865db9bb932f      0  \n",
       "3  short_time_horizon  b255d4bd6c9ba194d3a350b3e76c6393      0  \n",
       "4   long_time_horizon  4a168225e89375b8de605cbc0977ae91      0  "
      ]
     },
     "execution_count": 7,
     "metadata": {},
     "output_type": "execute_result"
    }
   ],
   "source": [
    "features_data.head()"
   ]
  },
  {
   "cell_type": "markdown",
   "id": "b89b163d",
   "metadata": {},
   "source": [
    " "
   ]
  },
  {
   "cell_type": "markdown",
   "id": "66447af6",
   "metadata": {},
   "source": [
    "## 2. Exploratory Data Analysis:"
   ]
  },
  {
   "cell_type": "code",
   "execution_count": 8,
   "id": "797f54cf",
   "metadata": {},
   "outputs": [],
   "source": [
    "data = features_data.copy()"
   ]
  },
  {
   "cell_type": "code",
   "execution_count": 9,
   "id": "fb176295",
   "metadata": {},
   "outputs": [
    {
     "data": {
      "text/plain": [
       "Index(['risk_tolerance', 'investment_experience', 'liquidity_needs',\n",
       "       'platform', 'time_spent', 'instrument_type_first_traded',\n",
       "       'first_deposit_amount', 'time_horizon', 'user_id', 'Churn'],\n",
       "      dtype='object')"
      ]
     },
     "execution_count": 9,
     "metadata": {},
     "output_type": "execute_result"
    }
   ],
   "source": [
    "data.columns"
   ]
  },
  {
   "cell_type": "code",
   "execution_count": 10,
   "id": "f7692089",
   "metadata": {},
   "outputs": [],
   "source": [
    "data.drop('user_id',axis = 1, inplace= True)"
   ]
  },
  {
   "cell_type": "code",
   "execution_count": 11,
   "id": "ddaa181f",
   "metadata": {},
   "outputs": [
    {
     "data": {
      "text/plain": [
       "risk_tolerance                  False\n",
       "investment_experience           False\n",
       "liquidity_needs                 False\n",
       "platform                        False\n",
       "time_spent                      False\n",
       "instrument_type_first_traded    False\n",
       "first_deposit_amount            False\n",
       "time_horizon                    False\n",
       "Churn                           False\n",
       "dtype: bool"
      ]
     },
     "execution_count": 11,
     "metadata": {},
     "output_type": "execute_result"
    }
   ],
   "source": [
    "data.isna().any()"
   ]
  },
  {
   "cell_type": "code",
   "execution_count": 12,
   "id": "74c3373b",
   "metadata": {},
   "outputs": [
    {
     "data": {
      "text/html": [
       "<div>\n",
       "<style scoped>\n",
       "    .dataframe tbody tr th:only-of-type {\n",
       "        vertical-align: middle;\n",
       "    }\n",
       "\n",
       "    .dataframe tbody tr th {\n",
       "        vertical-align: top;\n",
       "    }\n",
       "\n",
       "    .dataframe thead th {\n",
       "        text-align: right;\n",
       "    }\n",
       "</style>\n",
       "<table border=\"1\" class=\"dataframe\">\n",
       "  <thead>\n",
       "    <tr style=\"text-align: right;\">\n",
       "      <th></th>\n",
       "      <th>time_spent</th>\n",
       "      <th>first_deposit_amount</th>\n",
       "      <th>Churn</th>\n",
       "    </tr>\n",
       "  </thead>\n",
       "  <tbody>\n",
       "    <tr>\n",
       "      <th>count</th>\n",
       "      <td>5584.000000</td>\n",
       "      <td>5584.000000</td>\n",
       "      <td>5584.000000</td>\n",
       "    </tr>\n",
       "    <tr>\n",
       "      <th>mean</th>\n",
       "      <td>34.509706</td>\n",
       "      <td>633.566805</td>\n",
       "      <td>0.049964</td>\n",
       "    </tr>\n",
       "    <tr>\n",
       "      <th>std</th>\n",
       "      <td>155.080551</td>\n",
       "      <td>2118.323263</td>\n",
       "      <td>0.217890</td>\n",
       "    </tr>\n",
       "    <tr>\n",
       "      <th>min</th>\n",
       "      <td>0.000000</td>\n",
       "      <td>0.000000</td>\n",
       "      <td>0.000000</td>\n",
       "    </tr>\n",
       "    <tr>\n",
       "      <th>25%</th>\n",
       "      <td>2.848908</td>\n",
       "      <td>50.000000</td>\n",
       "      <td>0.000000</td>\n",
       "    </tr>\n",
       "    <tr>\n",
       "      <th>50%</th>\n",
       "      <td>13.474708</td>\n",
       "      <td>100.000000</td>\n",
       "      <td>0.000000</td>\n",
       "    </tr>\n",
       "    <tr>\n",
       "      <th>75%</th>\n",
       "      <td>33.823829</td>\n",
       "      <td>500.000000</td>\n",
       "      <td>0.000000</td>\n",
       "    </tr>\n",
       "    <tr>\n",
       "      <th>max</th>\n",
       "      <td>8788.329450</td>\n",
       "      <td>50000.000000</td>\n",
       "      <td>1.000000</td>\n",
       "    </tr>\n",
       "  </tbody>\n",
       "</table>\n",
       "</div>"
      ],
      "text/plain": [
       "        time_spent  first_deposit_amount        Churn\n",
       "count  5584.000000           5584.000000  5584.000000\n",
       "mean     34.509706            633.566805     0.049964\n",
       "std     155.080551           2118.323263     0.217890\n",
       "min       0.000000              0.000000     0.000000\n",
       "25%       2.848908             50.000000     0.000000\n",
       "50%      13.474708            100.000000     0.000000\n",
       "75%      33.823829            500.000000     0.000000\n",
       "max    8788.329450          50000.000000     1.000000"
      ]
     },
     "execution_count": 12,
     "metadata": {},
     "output_type": "execute_result"
    }
   ],
   "source": [
    "data.describe()"
   ]
  },
  {
   "cell_type": "code",
   "execution_count": 13,
   "id": "f73e8e68",
   "metadata": {},
   "outputs": [
    {
     "data": {
      "text/plain": [
       "risk_tolerance                   object\n",
       "investment_experience            object\n",
       "liquidity_needs                  object\n",
       "platform                         object\n",
       "time_spent                      float64\n",
       "instrument_type_first_traded     object\n",
       "first_deposit_amount            float64\n",
       "time_horizon                     object\n",
       "Churn                             int64\n",
       "dtype: object"
      ]
     },
     "execution_count": 13,
     "metadata": {},
     "output_type": "execute_result"
    }
   ],
   "source": [
    "data.dtypes"
   ]
  },
  {
   "cell_type": "markdown",
   "id": "6703c649",
   "metadata": {},
   "source": [
    " "
   ]
  },
  {
   "cell_type": "code",
   "execution_count": 14,
   "id": "e716e97c",
   "metadata": {},
   "outputs": [
    {
     "name": "stdout",
     "output_type": "stream",
     "text": [
      "0    5305\n",
      "1     279\n",
      "Name: Churn, dtype: int64\n"
     ]
    }
   ],
   "source": [
    "print(data[\"Churn\"].value_counts())"
   ]
  },
  {
   "cell_type": "markdown",
   "id": "b5bf7ec0",
   "metadata": {},
   "source": [
    " - Data is Highly Imbalanced hence we need to try different oversampling techniques in the modeling section."
   ]
  },
  {
   "cell_type": "code",
   "execution_count": 15,
   "id": "5c9b1b3e",
   "metadata": {},
   "outputs": [
    {
     "data": {
      "text/html": [
       "<div>\n",
       "<style scoped>\n",
       "    .dataframe tbody tr th:only-of-type {\n",
       "        vertical-align: middle;\n",
       "    }\n",
       "\n",
       "    .dataframe tbody tr th {\n",
       "        vertical-align: top;\n",
       "    }\n",
       "\n",
       "    .dataframe thead th {\n",
       "        text-align: right;\n",
       "    }\n",
       "</style>\n",
       "<table border=\"1\" class=\"dataframe\">\n",
       "  <thead>\n",
       "    <tr style=\"text-align: right;\">\n",
       "      <th></th>\n",
       "      <th>risk_tolerance</th>\n",
       "      <th>investment_experience</th>\n",
       "      <th>liquidity_needs</th>\n",
       "      <th>platform</th>\n",
       "      <th>time_spent</th>\n",
       "      <th>instrument_type_first_traded</th>\n",
       "      <th>first_deposit_amount</th>\n",
       "      <th>time_horizon</th>\n",
       "      <th>Churn</th>\n",
       "    </tr>\n",
       "  </thead>\n",
       "  <tbody>\n",
       "    <tr>\n",
       "      <th>0</th>\n",
       "      <td>high_risk_tolerance</td>\n",
       "      <td>limited_investment_exp</td>\n",
       "      <td>very_important_liq_need</td>\n",
       "      <td>Android</td>\n",
       "      <td>33.129417</td>\n",
       "      <td>stock</td>\n",
       "      <td>40.0</td>\n",
       "      <td>med_time_horizon</td>\n",
       "      <td>0</td>\n",
       "    </tr>\n",
       "    <tr>\n",
       "      <th>1</th>\n",
       "      <td>med_risk_tolerance</td>\n",
       "      <td>limited_investment_exp</td>\n",
       "      <td>very_important_liq_need</td>\n",
       "      <td>Android</td>\n",
       "      <td>16.573517</td>\n",
       "      <td>stock</td>\n",
       "      <td>200.0</td>\n",
       "      <td>short_time_horizon</td>\n",
       "      <td>0</td>\n",
       "    </tr>\n",
       "    <tr>\n",
       "      <th>2</th>\n",
       "      <td>med_risk_tolerance</td>\n",
       "      <td>limited_investment_exp</td>\n",
       "      <td>very_important_liq_need</td>\n",
       "      <td>iOS</td>\n",
       "      <td>10.008367</td>\n",
       "      <td>stock</td>\n",
       "      <td>25.0</td>\n",
       "      <td>long_time_horizon</td>\n",
       "      <td>0</td>\n",
       "    </tr>\n",
       "    <tr>\n",
       "      <th>3</th>\n",
       "      <td>med_risk_tolerance</td>\n",
       "      <td>limited_investment_exp</td>\n",
       "      <td>very_important_liq_need</td>\n",
       "      <td>Android</td>\n",
       "      <td>1.031633</td>\n",
       "      <td>stock</td>\n",
       "      <td>100.0</td>\n",
       "      <td>short_time_horizon</td>\n",
       "      <td>0</td>\n",
       "    </tr>\n",
       "    <tr>\n",
       "      <th>4</th>\n",
       "      <td>high_risk_tolerance</td>\n",
       "      <td>limited_investment_exp</td>\n",
       "      <td>very_important_liq_need</td>\n",
       "      <td>Android</td>\n",
       "      <td>8.187250</td>\n",
       "      <td>stock</td>\n",
       "      <td>20.0</td>\n",
       "      <td>long_time_horizon</td>\n",
       "      <td>0</td>\n",
       "    </tr>\n",
       "  </tbody>\n",
       "</table>\n",
       "</div>"
      ],
      "text/plain": [
       "        risk_tolerance   investment_experience          liquidity_needs  \\\n",
       "0  high_risk_tolerance  limited_investment_exp  very_important_liq_need   \n",
       "1   med_risk_tolerance  limited_investment_exp  very_important_liq_need   \n",
       "2   med_risk_tolerance  limited_investment_exp  very_important_liq_need   \n",
       "3   med_risk_tolerance  limited_investment_exp  very_important_liq_need   \n",
       "4  high_risk_tolerance  limited_investment_exp  very_important_liq_need   \n",
       "\n",
       "  platform  time_spent instrument_type_first_traded  first_deposit_amount  \\\n",
       "0  Android   33.129417                        stock                  40.0   \n",
       "1  Android   16.573517                        stock                 200.0   \n",
       "2      iOS   10.008367                        stock                  25.0   \n",
       "3  Android    1.031633                        stock                 100.0   \n",
       "4  Android    8.187250                        stock                  20.0   \n",
       "\n",
       "         time_horizon  Churn  \n",
       "0    med_time_horizon      0  \n",
       "1  short_time_horizon      0  \n",
       "2   long_time_horizon      0  \n",
       "3  short_time_horizon      0  \n",
       "4   long_time_horizon      0  "
      ]
     },
     "execution_count": 15,
     "metadata": {},
     "output_type": "execute_result"
    }
   ],
   "source": [
    "data.head()"
   ]
  },
  {
   "cell_type": "code",
   "execution_count": 16,
   "id": "d0901ee2",
   "metadata": {},
   "outputs": [],
   "source": [
    "df = pd.get_dummies(data, prefix=['Tolerance_','Exp_',\"liq_\",'pltform_','first_traded','time_'])"
   ]
  },
  {
   "cell_type": "code",
   "execution_count": 17,
   "id": "b79ca507",
   "metadata": {},
   "outputs": [
    {
     "data": {
      "text/html": [
       "<div>\n",
       "<style scoped>\n",
       "    .dataframe tbody tr th:only-of-type {\n",
       "        vertical-align: middle;\n",
       "    }\n",
       "\n",
       "    .dataframe tbody tr th {\n",
       "        vertical-align: top;\n",
       "    }\n",
       "\n",
       "    .dataframe thead th {\n",
       "        text-align: right;\n",
       "    }\n",
       "</style>\n",
       "<table border=\"1\" class=\"dataframe\">\n",
       "  <thead>\n",
       "    <tr style=\"text-align: right;\">\n",
       "      <th></th>\n",
       "      <th>time_spent</th>\n",
       "      <th>first_deposit_amount</th>\n",
       "      <th>Churn</th>\n",
       "      <th>Tolerance__high_risk_tolerance</th>\n",
       "      <th>Tolerance__low_risk_tolerance</th>\n",
       "      <th>Tolerance__med_risk_tolerance</th>\n",
       "      <th>Exp__extensive_investment_exp</th>\n",
       "      <th>Exp__good_investment_exp</th>\n",
       "      <th>Exp__limited_investment_exp</th>\n",
       "      <th>Exp__no_investment_exp</th>\n",
       "      <th>...</th>\n",
       "      <th>first_traded_lp</th>\n",
       "      <th>first_traded_mlp</th>\n",
       "      <th>first_traded_reit</th>\n",
       "      <th>first_traded_rlt</th>\n",
       "      <th>first_traded_stock</th>\n",
       "      <th>first_traded_tracking</th>\n",
       "      <th>first_traded_wrt</th>\n",
       "      <th>time__long_time_horizon</th>\n",
       "      <th>time__med_time_horizon</th>\n",
       "      <th>time__short_time_horizon</th>\n",
       "    </tr>\n",
       "  </thead>\n",
       "  <tbody>\n",
       "    <tr>\n",
       "      <th>0</th>\n",
       "      <td>33.129417</td>\n",
       "      <td>40.0</td>\n",
       "      <td>0</td>\n",
       "      <td>1</td>\n",
       "      <td>0</td>\n",
       "      <td>0</td>\n",
       "      <td>0</td>\n",
       "      <td>0</td>\n",
       "      <td>1</td>\n",
       "      <td>0</td>\n",
       "      <td>...</td>\n",
       "      <td>0</td>\n",
       "      <td>0</td>\n",
       "      <td>0</td>\n",
       "      <td>0</td>\n",
       "      <td>1</td>\n",
       "      <td>0</td>\n",
       "      <td>0</td>\n",
       "      <td>0</td>\n",
       "      <td>1</td>\n",
       "      <td>0</td>\n",
       "    </tr>\n",
       "    <tr>\n",
       "      <th>1</th>\n",
       "      <td>16.573517</td>\n",
       "      <td>200.0</td>\n",
       "      <td>0</td>\n",
       "      <td>0</td>\n",
       "      <td>0</td>\n",
       "      <td>1</td>\n",
       "      <td>0</td>\n",
       "      <td>0</td>\n",
       "      <td>1</td>\n",
       "      <td>0</td>\n",
       "      <td>...</td>\n",
       "      <td>0</td>\n",
       "      <td>0</td>\n",
       "      <td>0</td>\n",
       "      <td>0</td>\n",
       "      <td>1</td>\n",
       "      <td>0</td>\n",
       "      <td>0</td>\n",
       "      <td>0</td>\n",
       "      <td>0</td>\n",
       "      <td>1</td>\n",
       "    </tr>\n",
       "    <tr>\n",
       "      <th>2</th>\n",
       "      <td>10.008367</td>\n",
       "      <td>25.0</td>\n",
       "      <td>0</td>\n",
       "      <td>0</td>\n",
       "      <td>0</td>\n",
       "      <td>1</td>\n",
       "      <td>0</td>\n",
       "      <td>0</td>\n",
       "      <td>1</td>\n",
       "      <td>0</td>\n",
       "      <td>...</td>\n",
       "      <td>0</td>\n",
       "      <td>0</td>\n",
       "      <td>0</td>\n",
       "      <td>0</td>\n",
       "      <td>1</td>\n",
       "      <td>0</td>\n",
       "      <td>0</td>\n",
       "      <td>1</td>\n",
       "      <td>0</td>\n",
       "      <td>0</td>\n",
       "    </tr>\n",
       "    <tr>\n",
       "      <th>3</th>\n",
       "      <td>1.031633</td>\n",
       "      <td>100.0</td>\n",
       "      <td>0</td>\n",
       "      <td>0</td>\n",
       "      <td>0</td>\n",
       "      <td>1</td>\n",
       "      <td>0</td>\n",
       "      <td>0</td>\n",
       "      <td>1</td>\n",
       "      <td>0</td>\n",
       "      <td>...</td>\n",
       "      <td>0</td>\n",
       "      <td>0</td>\n",
       "      <td>0</td>\n",
       "      <td>0</td>\n",
       "      <td>1</td>\n",
       "      <td>0</td>\n",
       "      <td>0</td>\n",
       "      <td>0</td>\n",
       "      <td>0</td>\n",
       "      <td>1</td>\n",
       "    </tr>\n",
       "    <tr>\n",
       "      <th>4</th>\n",
       "      <td>8.187250</td>\n",
       "      <td>20.0</td>\n",
       "      <td>0</td>\n",
       "      <td>1</td>\n",
       "      <td>0</td>\n",
       "      <td>0</td>\n",
       "      <td>0</td>\n",
       "      <td>0</td>\n",
       "      <td>1</td>\n",
       "      <td>0</td>\n",
       "      <td>...</td>\n",
       "      <td>0</td>\n",
       "      <td>0</td>\n",
       "      <td>0</td>\n",
       "      <td>0</td>\n",
       "      <td>1</td>\n",
       "      <td>0</td>\n",
       "      <td>0</td>\n",
       "      <td>1</td>\n",
       "      <td>0</td>\n",
       "      <td>0</td>\n",
       "    </tr>\n",
       "  </tbody>\n",
       "</table>\n",
       "<p>5 rows × 30 columns</p>\n",
       "</div>"
      ],
      "text/plain": [
       "   time_spent  first_deposit_amount  Churn  Tolerance__high_risk_tolerance  \\\n",
       "0   33.129417                  40.0      0                               1   \n",
       "1   16.573517                 200.0      0                               0   \n",
       "2   10.008367                  25.0      0                               0   \n",
       "3    1.031633                 100.0      0                               0   \n",
       "4    8.187250                  20.0      0                               1   \n",
       "\n",
       "   Tolerance__low_risk_tolerance  Tolerance__med_risk_tolerance  \\\n",
       "0                              0                              0   \n",
       "1                              0                              1   \n",
       "2                              0                              1   \n",
       "3                              0                              1   \n",
       "4                              0                              0   \n",
       "\n",
       "   Exp__extensive_investment_exp  Exp__good_investment_exp  \\\n",
       "0                              0                         0   \n",
       "1                              0                         0   \n",
       "2                              0                         0   \n",
       "3                              0                         0   \n",
       "4                              0                         0   \n",
       "\n",
       "   Exp__limited_investment_exp  Exp__no_investment_exp  ...  first_traded_lp  \\\n",
       "0                            1                       0  ...                0   \n",
       "1                            1                       0  ...                0   \n",
       "2                            1                       0  ...                0   \n",
       "3                            1                       0  ...                0   \n",
       "4                            1                       0  ...                0   \n",
       "\n",
       "   first_traded_mlp  first_traded_reit  first_traded_rlt  first_traded_stock  \\\n",
       "0                 0                  0                 0                   1   \n",
       "1                 0                  0                 0                   1   \n",
       "2                 0                  0                 0                   1   \n",
       "3                 0                  0                 0                   1   \n",
       "4                 0                  0                 0                   1   \n",
       "\n",
       "   first_traded_tracking  first_traded_wrt  time__long_time_horizon  \\\n",
       "0                      0                 0                        0   \n",
       "1                      0                 0                        0   \n",
       "2                      0                 0                        1   \n",
       "3                      0                 0                        0   \n",
       "4                      0                 0                        1   \n",
       "\n",
       "   time__med_time_horizon  time__short_time_horizon  \n",
       "0                       1                         0  \n",
       "1                       0                         1  \n",
       "2                       0                         0  \n",
       "3                       0                         1  \n",
       "4                       0                         0  \n",
       "\n",
       "[5 rows x 30 columns]"
      ]
     },
     "execution_count": 17,
     "metadata": {},
     "output_type": "execute_result"
    }
   ],
   "source": [
    "df.head()"
   ]
  },
  {
   "cell_type": "markdown",
   "id": "fd664787",
   "metadata": {},
   "source": [
    "### Correlation:"
   ]
  },
  {
   "cell_type": "code",
   "execution_count": 18,
   "id": "ca132933",
   "metadata": {
    "scrolled": false
   },
   "outputs": [
    {
     "data": {
      "text/plain": [
       "Churn                               1.000000\n",
       "Tolerance__low_risk_tolerance       0.061152\n",
       "Tolerance__med_risk_tolerance       0.040776\n",
       "pltform__both                       0.033727\n",
       "first_traded_wrt                    0.018462\n",
       "first_traded_lp                     0.013045\n",
       "liq__not_important_liq_need         0.012174\n",
       "liq__somewhat_important_liq_need    0.009456\n",
       "Exp__no_investment_exp              0.007504\n",
       "pltform__Android                    0.006645\n",
       "first_traded_0                      0.005977\n",
       "Exp__limited_investment_exp         0.005263\n",
       "first_traded_mlp                    0.002097\n",
       "first_traded_stock                  0.001976\n",
       "first_traded_cef                    0.000010\n",
       "first_traded_etp                   -0.000443\n",
       "first_traded_tracking              -0.003069\n",
       "first_traded_adr                   -0.003756\n",
       "Exp__extensive_investment_exp      -0.005656\n",
       "time__long_time_horizon            -0.006274\n",
       "first_traded_rlt                   -0.009214\n",
       "Exp__good_investment_exp           -0.013607\n",
       "first_traded_reit                  -0.014549\n",
       "liq__very_important_liq_need       -0.014718\n",
       "time__med_time_horizon             -0.017447\n",
       "pltform__iOS                       -0.026258\n",
       "first_deposit_amount               -0.029392\n",
       "Tolerance__high_risk_tolerance     -0.065313\n",
       "dtype: float64"
      ]
     },
     "execution_count": 18,
     "metadata": {},
     "output_type": "execute_result"
    }
   ],
   "source": [
    "'''Top highly correlated features with Churn data'''\n",
    "\n",
    "df[df.columns[1:-1]].apply(lambda x: x.corr(df['Churn'])).sort_values(ascending=False)"
   ]
  },
  {
   "cell_type": "markdown",
   "id": "4273ad72",
   "metadata": {},
   "source": [
    "__Top 3 Highly correlated features are:__\n",
    "   1. Tolerance__high_risk_tolerance\n",
    "   2. Tolerance__low_risk_tolerance\n",
    "   3. Tolerance__med_risk_tolerance\n",
    "   \n",
    "- __risk_tolerance, platform, first_deposit_amount__ are the top 3 categorical features from the original dataset.\n",
    "   \n",
    "- __+/-__ is just an direction of correlation hence we can consider absolute value of a pearson correlation of a feature.\n"
   ]
  },
  {
   "cell_type": "markdown",
   "id": "348efd95",
   "metadata": {},
   "source": [
    "## 3. Modeling:"
   ]
  },
  {
   "cell_type": "code",
   "execution_count": 19,
   "id": "4aaa8883",
   "metadata": {},
   "outputs": [],
   "source": [
    "### Train-Test Split:\n",
    "\n",
    "Y = df[\"Churn\"]\n",
    "X = df.drop(columns=\"Churn\")\n",
    "\n",
    "X_train, X_test, y_train, y_test = train_test_split(X, Y,stratify=Y, test_size = 0.2,random_state=20)\n",
    "\n",
    "\n",
    "### Scaling:\n",
    "\n",
    "sc_X = StandardScaler()\n",
    "X_train2 = pd.DataFrame(sc_X.fit_transform(X_train))\n",
    "X_train2.columns = X_train.columns.values\n",
    "X_train2.index = X_train.index.values\n",
    "X_train = X_train2\n",
    "\n",
    "X_test2 = pd.DataFrame(sc_X.transform(X_test))\n",
    "X_test2.columns = X_test.columns.values\n",
    "X_test2.index = X_test.index.values\n",
    "X_test = X_test2"
   ]
  },
  {
   "cell_type": "markdown",
   "id": "b9412b1e",
   "metadata": {},
   "source": [
    "### 3.1 Baseline Models:"
   ]
  },
  {
   "cell_type": "code",
   "execution_count": 20,
   "id": "519e505e",
   "metadata": {},
   "outputs": [],
   "source": [
    "from sklearn.svm import SVC\n",
    "from sklearn.neighbors import KNeighborsClassifier"
   ]
  },
  {
   "cell_type": "code",
   "execution_count": 21,
   "id": "294d7e1e",
   "metadata": {},
   "outputs": [
    {
     "name": "stdout",
     "output_type": "stream",
     "text": [
      "                  Algorithm  ROC AUC Mean  ROC AUC STD  Accuracy Mean\n",
      "6             Random Forest         56.25         6.32          93.75\n",
      "0       Logistic Regression         55.90         4.69          62.21\n",
      "4               Gaussian NB         54.63         6.05           7.86\n",
      "3                       KNN         53.05         4.19          94.81\n",
      "2                Kernel SVM         52.78         4.25          95.01\n",
      "5  Decision Tree Classifier         49.57         3.50          90.19\n",
      "1                       SVC         46.57         7.24          95.01\n"
     ]
    }
   ],
   "source": [
    "models = []\n",
    "models.append(('Logistic Regression', LogisticRegression(solver='liblinear', random_state = 0, class_weight='balanced')))\n",
    "models.append(('SVC', SVC(kernel = 'linear', random_state = 0)))\n",
    "models.append(('Kernel SVM', SVC(kernel = 'rbf', random_state = 0)))\n",
    "models.append(('KNN', KNeighborsClassifier(n_neighbors = 5, metric = 'minkowski', p = 2)))\n",
    "models.append(('Gaussian NB', GaussianNB()))\n",
    "models.append(('Decision Tree Classifier', DecisionTreeClassifier(criterion = 'entropy', random_state = 0)))\n",
    "models.append(('Random Forest', RandomForestClassifier(n_estimators=100, criterion = 'entropy', random_state = 0,class_weight='balanced')))\n",
    "\n",
    "#Evaluating Model Results:\n",
    "acc_results = []\n",
    "auc_results = []\n",
    "\n",
    "names = []\n",
    "col = ['Algorithm', 'ROC AUC Mean', 'ROC AUC STD', 'Accuracy Mean']\n",
    "i = 0\n",
    "model_results = pd.DataFrame(columns=col)\n",
    "\n",
    "\n",
    "# Evaluate each model using k-fold cross-validation:\n",
    "for name, model in models:\n",
    "    kfold = model_selection.KFold(n_splits=10)\n",
    "\n",
    "    # Accuracy scoring:\n",
    "    cv_acc_results = model_selection.cross_val_score(model, X_train, y_train, cv=kfold, scoring='accuracy')\n",
    "\n",
    "    # Roc_auc scoring:\n",
    "    cv_auc_results = model_selection.cross_val_score(model, X_train, y_train, cv=kfold, scoring='roc_auc')\n",
    "    \n",
    "    acc_results.append(cv_acc_results)\n",
    "    auc_results.append(cv_auc_results)\n",
    "    names.append(name)\n",
    "    \n",
    "    model_results.loc[i] = [name, round(cv_auc_results.mean()*100, 2), round(cv_auc_results.std()*100, 2), \n",
    "                            round(cv_acc_results.mean()*100, 2)]\n",
    "    \n",
    "    i += 1\n",
    "print(model_results.sort_values(by=['ROC AUC Mean'], ascending=False))"
   ]
  },
  {
   "cell_type": "markdown",
   "id": "aa34b7f6",
   "metadata": {},
   "source": [
    "After looking at the above results, we can select the __Random Forest__\n",
    "algorithm for further tuning & tesing on validation set of data. "
   ]
  },
  {
   "cell_type": "markdown",
   "id": "1bfff4a2",
   "metadata": {},
   "source": [
    "### 3.2 Handling imbalanced data:"
   ]
  },
  {
   "cell_type": "markdown",
   "id": "f439c866",
   "metadata": {},
   "source": [
    "#### 3.2.1 Oversampling using SMOTE:"
   ]
  },
  {
   "cell_type": "code",
   "execution_count": 22,
   "id": "7f06ac6f",
   "metadata": {},
   "outputs": [
    {
     "name": "stdout",
     "output_type": "stream",
     "text": [
      "Shape of X before SMOTE: (5584, 29) Shape of X after SMOTE: (8488, 29)\n",
      "Shape of X before SMOTE: (5584,) Shape of X after SMOTE: (8488,)\n",
      "\n",
      "Balance of positive and negative classes (%):\n"
     ]
    },
    {
     "data": {
      "text/plain": [
       "0    50.0\n",
       "1    50.0\n",
       "Name: Churn, dtype: float64"
      ]
     },
     "execution_count": 22,
     "metadata": {},
     "output_type": "execute_result"
    }
   ],
   "source": [
    "sm = SMOTE(random_state=0)\n",
    "\n",
    "X_sm, y_sm = sm.fit_resample(X_train, y_train)\n",
    "\n",
    "print(f'''Shape of X before SMOTE: {X.shape} Shape of X after SMOTE: {X_sm.shape}''')\n",
    "print(f'''Shape of X before SMOTE: {Y.shape} Shape of X after SMOTE: {y_sm.shape}''')\n",
    "\n",
    "print('\\nBalance of positive and negative classes (%):')\n",
    "y_sm.value_counts(normalize=True) * 100\n"
   ]
  },
  {
   "cell_type": "code",
   "execution_count": 23,
   "id": "f1953334",
   "metadata": {},
   "outputs": [
    {
     "name": "stdout",
     "output_type": "stream",
     "text": [
      "           Model       AUC  Accuracy  Precision    Recall  F1 Score\n",
      "0  Random Forest  0.521997  0.895255   0.082192  0.107143  0.093023\n",
      "              precision    recall  f1-score   support\n",
      "\n",
      "           0       0.95      0.94      0.94      1061\n",
      "           1       0.08      0.11      0.09        56\n",
      "\n",
      "    accuracy                           0.90      1117\n",
      "   macro avg       0.52      0.52      0.52      1117\n",
      "weighted avg       0.91      0.90      0.90      1117\n",
      "\n"
     ]
    }
   ],
   "source": [
    "# Model\n",
    "RF_cl = RandomForestClassifier(n_estimators = 72, criterion = 'entropy', class_weight={0:1,1:5} , random_state = 0)\n",
    "RF_cl.fit(X_sm, y_sm)\n",
    "\n",
    "# Predicting the Test set results \n",
    "y_pred = RF_cl.predict(X_test)\n",
    "\n",
    "#Evaluate results\n",
    "AUC = roc_auc_score(y_test, y_pred)\n",
    "acc = accuracy_score(y_test, y_pred )\n",
    "prec = precision_score(y_test, y_pred )\n",
    "rec = recall_score(y_test, y_pred )\n",
    "f1 = f1_score(y_test, y_pred )\n",
    "\n",
    "\n",
    "model_results = pd.DataFrame([['Random Forest', AUC, acc, prec, rec, f1]], columns = ['Model', 'AUC','Accuracy', \n",
    "                                                                                      'Precision', 'Recall', 'F1 Score'])\n",
    "results = model_results.sort_values([\"AUC\",\"Precision\", \"Recall\"], ascending = False)\n",
    "print (results)\n",
    "\n",
    "print(classification_report(y_test, y_pred))"
   ]
  },
  {
   "cell_type": "markdown",
   "id": "f2457aa6",
   "metadata": {},
   "source": [
    "#### 3.2.2 Undersampling using RandomUnderSampler:"
   ]
  },
  {
   "cell_type": "code",
   "execution_count": 24,
   "id": "1284b23a",
   "metadata": {},
   "outputs": [
    {
     "name": "stdout",
     "output_type": "stream",
     "text": [
      "Shape of X before SMOTE: (4467, 29) Shape of X after SMOTE: (446, 29)\n",
      "Shape of X before SMOTE: (4467,) Shape of X after SMOTE: (446,)\n",
      "\n",
      "Balance of positive and negative classes (%):\n"
     ]
    },
    {
     "data": {
      "text/plain": [
       "0    50.0\n",
       "1    50.0\n",
       "Name: Churn, dtype: float64"
      ]
     },
     "execution_count": 24,
     "metadata": {},
     "output_type": "execute_result"
    }
   ],
   "source": [
    "rus = RandomUnderSampler() \n",
    "\n",
    "# resampling X, y\n",
    "X_rus, y_rus = rus.fit_resample(X_train, y_train)\n",
    "\n",
    "\n",
    "print(f'''Shape of X before SMOTE: {X_train.shape} Shape of X after SMOTE: {X_rus.shape}''')\n",
    "print(f'''Shape of X before SMOTE: {y_train.shape} Shape of X after SMOTE: {y_rus.shape}''')\n",
    "\n",
    "print('\\nBalance of positive and negative classes (%):')\n",
    "y_rus.value_counts(normalize=True) * 100"
   ]
  },
  {
   "cell_type": "code",
   "execution_count": 25,
   "id": "a6b8cfe3",
   "metadata": {},
   "outputs": [
    {
     "name": "stdout",
     "output_type": "stream",
     "text": [
      "           Model       AUC  Accuracy  Precision    Recall  F1 Score\n",
      "0  Random Forest  0.547807  0.574754   0.060797  0.517857  0.108818\n",
      "              precision    recall  f1-score   support\n",
      "\n",
      "           0       0.95      0.94      0.94      1061\n",
      "           1       0.08      0.11      0.09        56\n",
      "\n",
      "    accuracy                           0.90      1117\n",
      "   macro avg       0.52      0.52      0.52      1117\n",
      "weighted avg       0.91      0.90      0.90      1117\n",
      "\n"
     ]
    }
   ],
   "source": [
    "# Model\n",
    "RF_cl = RandomForestClassifier(n_estimators = 72, criterion = 'entropy', class_weight={0:1,1:5} , random_state = 0)\n",
    "RF_cl.fit(X_rus, y_rus)\n",
    "\n",
    "# Predicting the Test set results \n",
    "y_pred2 = RF_cl.predict(X_test)\n",
    "\n",
    "#Evaluate results\n",
    "AUC = roc_auc_score(y_test, y_pred2)\n",
    "acc = accuracy_score(y_test, y_pred2 )\n",
    "prec = precision_score(y_test, y_pred2 )\n",
    "rec = recall_score(y_test, y_pred2 )\n",
    "f1 = f1_score(y_test, y_pred2 )\n",
    "\n",
    "\n",
    "model_results = pd.DataFrame([['Random Forest', AUC, acc, prec, rec, f1]], columns = ['Model', 'AUC','Accuracy', \n",
    "                                                                                      'Precision', 'Recall', 'F1 Score'])\n",
    "\n",
    "results = model_results.sort_values([\"AUC\",\"Precision\", \"Recall\"], ascending = False)\n",
    "print(results)\n",
    "print(classification_report(y_test, y_pred))"
   ]
  },
  {
   "cell_type": "markdown",
   "id": "f679927d",
   "metadata": {},
   "source": [
    "- As you can see, __Undersampling & Oversampling__ didn't help in improving model performance. Hence we can keep the original data to tune the model."
   ]
  },
  {
   "cell_type": "markdown",
   "id": "9d82b92d",
   "metadata": {},
   "source": [
    "### 3.3 Model Tuning: "
   ]
  },
  {
   "cell_type": "code",
   "execution_count": 26,
   "id": "526cf5a0",
   "metadata": {},
   "outputs": [
    {
     "name": "stdout",
     "output_type": "stream",
     "text": [
      "Model Score on Test data:  0.95\n"
     ]
    }
   ],
   "source": [
    "# Random Forest\n",
    "    \n",
    "RF_cl = RandomForestClassifier(n_estimators = 72, criterion = 'entropy', random_state = 0)\n",
    "RF_cl.fit(X_train, y_train)\n",
    "\n",
    "# Predicting the Test set results \n",
    "y_pred = RF_cl.predict(X_test)\n",
    "print(\"Model Score on Test data: \",round(RF_cl.score(X_test,y_test),2))"
   ]
  },
  {
   "cell_type": "code",
   "execution_count": 27,
   "id": "28b667fc",
   "metadata": {},
   "outputs": [
    {
     "data": {
      "text/plain": [
       "time_spent                          0.413725\n",
       "first_deposit_amount                0.274372\n",
       "Exp__limited_investment_exp         0.023776\n",
       "time__short_time_horizon            0.023106\n",
       "Exp__no_investment_exp              0.022812\n",
       "time__long_time_horizon             0.022767\n",
       "Exp__good_investment_exp            0.019574\n",
       "time__med_time_horizon              0.018009\n",
       "pltform__iOS                        0.017824\n",
       "liq__very_important_liq_need        0.017457\n",
       "liq__somewhat_important_liq_need    0.016933\n",
       "Tolerance__high_risk_tolerance      0.016677\n",
       "pltform__both                       0.014590\n",
       "first_traded_stock                  0.014492\n",
       "Tolerance__med_risk_tolerance       0.013750\n",
       "pltform__Android                    0.013512\n",
       "Tolerance__low_risk_tolerance       0.011223\n",
       "first_traded_etp                    0.010919\n",
       "liq__not_important_liq_need         0.009167\n",
       "first_traded_adr                    0.006474\n",
       "Exp__extensive_investment_exp       0.004573\n",
       "first_traded_mlp                    0.003320\n",
       "first_traded_reit                   0.002556\n",
       "first_traded_lp                     0.002428\n",
       "first_traded_0                      0.002315\n",
       "first_traded_cef                    0.002115\n",
       "first_traded_wrt                    0.001443\n",
       "first_traded_rlt                    0.000080\n",
       "first_traded_tracking               0.000011\n",
       "dtype: float64"
      ]
     },
     "execution_count": 27,
     "metadata": {},
     "output_type": "execute_result"
    }
   ],
   "source": [
    "cols = [i for i in X_train.columns]\n",
    "importances = RF_cl.feature_importances_\n",
    "\n",
    "forest_importances = pd.Series(importances, index=cols).sort_values(ascending= False)\n",
    "forest_importances"
   ]
  },
  {
   "cell_type": "markdown",
   "id": "08f5b9b8",
   "metadata": {},
   "source": [
    "### 3.3.1 Hyper-Parameter Tuning using RandomSearchCV:"
   ]
  },
  {
   "cell_type": "code",
   "execution_count": 28,
   "id": "51c31fc3",
   "metadata": {},
   "outputs": [
    {
     "name": "stdout",
     "output_type": "stream",
     "text": [
      "Fitting 5 folds for each of 100 candidates, totalling 500 fits\n"
     ]
    },
    {
     "data": {
      "text/plain": [
       "{'n_estimators': 50,\n",
       " 'min_samples_split': 15,\n",
       " 'min_samples_leaf': 10,\n",
       " 'max_features': 'auto',\n",
       " 'max_depth': 50}"
      ]
     },
     "execution_count": 28,
     "metadata": {},
     "output_type": "execute_result"
    }
   ],
   "source": [
    "n_estimators = [50, 72, 80, 150, 250, 500]\n",
    "max_features = ['auto','sqrt','log2']\n",
    "max_depth = [10, 20, 30, 40, 50]\n",
    "min_samples_split = [2, 5, 10, 15, 20]\n",
    "min_samples_leaf = [1, 2, 5, 10, 15]\n",
    "\n",
    "\n",
    "grid_param = {\n",
    "    'n_estimators': n_estimators,\n",
    "    'max_features': max_features,\n",
    "    'max_depth': max_depth,\n",
    "    'min_samples_split': min_samples_split,\n",
    "    'min_samples_leaf': min_samples_leaf,\n",
    "}\n",
    "\n",
    "\n",
    "RF1_cl = RandomForestClassifier(criterion = 'entropy', random_state = 20)\n",
    "\n",
    "clf = RandomizedSearchCV(estimator = RF1_cl,\n",
    "                         param_distributions = grid_param,\n",
    "                         n_iter=100,\n",
    "                         cv=5,\n",
    "                         verbose=1,\n",
    "                         random_state=20,\n",
    "                         n_jobs=-1)\n",
    "\n",
    "search = clf.fit(X_train, y_train)\n",
    "\n",
    "# Predicting the Test set results \n",
    "y_pred1 = search.predict(X_test)\n",
    "\n",
    "# Best Parameters\n",
    "search.best_params_"
   ]
  },
  {
   "cell_type": "code",
   "execution_count": 29,
   "id": "47b42c2d",
   "metadata": {},
   "outputs": [
    {
     "name": "stdout",
     "output_type": "stream",
     "text": [
      "              precision    recall  f1-score   support\n",
      "\n",
      "           0       0.95      1.00      0.97      1061\n",
      "           1       0.00      0.00      0.00        56\n",
      "\n",
      "    accuracy                           0.95      1117\n",
      "   macro avg       0.47      0.50      0.49      1117\n",
      "weighted avg       0.90      0.95      0.93      1117\n",
      "\n"
     ]
    },
    {
     "name": "stderr",
     "output_type": "stream",
     "text": [
      "C:\\Users\\khist\\miniconda3\\lib\\site-packages\\sklearn\\metrics\\_classification.py:1248: UndefinedMetricWarning: Precision and F-score are ill-defined and being set to 0.0 in labels with no predicted samples. Use `zero_division` parameter to control this behavior.\n",
      "  _warn_prf(average, modifier, msg_start, len(result))\n",
      "C:\\Users\\khist\\miniconda3\\lib\\site-packages\\sklearn\\metrics\\_classification.py:1248: UndefinedMetricWarning: Precision and F-score are ill-defined and being set to 0.0 in labels with no predicted samples. Use `zero_division` parameter to control this behavior.\n",
      "  _warn_prf(average, modifier, msg_start, len(result))\n",
      "C:\\Users\\khist\\miniconda3\\lib\\site-packages\\sklearn\\metrics\\_classification.py:1248: UndefinedMetricWarning: Precision and F-score are ill-defined and being set to 0.0 in labels with no predicted samples. Use `zero_division` parameter to control this behavior.\n",
      "  _warn_prf(average, modifier, msg_start, len(result))\n"
     ]
    }
   ],
   "source": [
    "print(classification_report(y_test, y_pred1))"
   ]
  },
  {
   "cell_type": "markdown",
   "id": "a1e218bf",
   "metadata": {},
   "source": [
    "### 3.3.2 Feature selection:"
   ]
  },
  {
   "cell_type": "code",
   "execution_count": 30,
   "id": "6de53bf5",
   "metadata": {},
   "outputs": [
    {
     "data": {
      "text/plain": [
       "time_spent                          0.413725\n",
       "first_deposit_amount                0.274372\n",
       "Exp__limited_investment_exp         0.023776\n",
       "time__short_time_horizon            0.023106\n",
       "Exp__no_investment_exp              0.022812\n",
       "time__long_time_horizon             0.022767\n",
       "Exp__good_investment_exp            0.019574\n",
       "time__med_time_horizon              0.018009\n",
       "pltform__iOS                        0.017824\n",
       "liq__very_important_liq_need        0.017457\n",
       "liq__somewhat_important_liq_need    0.016933\n",
       "Tolerance__high_risk_tolerance      0.016677\n",
       "pltform__both                       0.014590\n",
       "first_traded_stock                  0.014492\n",
       "Tolerance__med_risk_tolerance       0.013750\n",
       "pltform__Android                    0.013512\n",
       "Tolerance__low_risk_tolerance       0.011223\n",
       "first_traded_etp                    0.010919\n",
       "liq__not_important_liq_need         0.009167\n",
       "first_traded_adr                    0.006474\n",
       "Exp__extensive_investment_exp       0.004573\n",
       "first_traded_mlp                    0.003320\n",
       "first_traded_reit                   0.002556\n",
       "first_traded_lp                     0.002428\n",
       "first_traded_0                      0.002315\n",
       "first_traded_cef                    0.002115\n",
       "first_traded_wrt                    0.001443\n",
       "first_traded_rlt                    0.000080\n",
       "first_traded_tracking               0.000011\n",
       "dtype: float64"
      ]
     },
     "execution_count": 30,
     "metadata": {},
     "output_type": "execute_result"
    }
   ],
   "source": [
    "# Important features\n",
    "    \n",
    "RF_cl = RandomForestClassifier(n_estimators = 72, criterion = 'entropy', random_state = 0)\n",
    "RF_cl.fit(X_train, y_train)\n",
    "\n",
    "cols = [i for i in X_train.columns]\n",
    "importances = RF_cl.feature_importances_\n",
    "\n",
    "forest_importances = pd.Series(importances, index=cols).sort_values(ascending= False)\n",
    "forest_importances"
   ]
  },
  {
   "cell_type": "markdown",
   "id": "71bc3efa",
   "metadata": {},
   "source": [
    "- After looking at top features, we can conclude that __instrument_type_first_traded__ is a least performing feature in predicting Churn users. So we will try dropping that feature to optimize our model."
   ]
  },
  {
   "cell_type": "code",
   "execution_count": 31,
   "id": "d22d062a",
   "metadata": {},
   "outputs": [
    {
     "name": "stdout",
     "output_type": "stream",
     "text": [
      "              precision    recall  f1-score   support\n",
      "\n",
      "           0       0.95      0.99      0.97      1061\n",
      "           1       0.11      0.02      0.03        56\n",
      "\n",
      "    accuracy                           0.94      1117\n",
      "   macro avg       0.53      0.51      0.50      1117\n",
      "weighted avg       0.91      0.94      0.92      1117\n",
      "\n"
     ]
    }
   ],
   "source": [
    "### Removing instrument_type_first_traded\n",
    "\n",
    "data2 = data.drop('instrument_type_first_traded', axis=1)\n",
    "df2 = pd.get_dummies(data2)\n",
    "\n",
    "Y1 = df2[\"Churn\"]\n",
    "X1 = df2.drop(columns=\"Churn\")\n",
    "\n",
    "X_train1, X_test1, y_train1, y_test1 = train_test_split(X1, Y1,stratify=Y1, test_size = 0.2, random_state=20)\n",
    "\n",
    "sc_X = StandardScaler()\n",
    "X_train2 = pd.DataFrame(sc_X.fit_transform(X_train1))\n",
    "X_train2.columns = X_train1.columns.values\n",
    "X_train2.index = X_train1.index.values\n",
    "X_train1 = X_train2\n",
    "\n",
    "X_test2 = pd.DataFrame(sc_X.transform(X_test1))\n",
    "X_test2.columns = X_test1.columns.values\n",
    "X_test2.index = X_test1.index.values\n",
    "X_test1 = X_test2\n",
    "\n",
    "\n",
    "# Random Forest\n",
    "    \n",
    "RF_cl = RandomForestClassifier(n_estimators = 72, criterion = 'entropy', random_state = 0)\n",
    "RF_cl.fit(X_train1, y_train1)\n",
    "\n",
    "# Predicting the Test set results \n",
    "y_pred1 = RF_cl.predict(X_test1)\n",
    "\n",
    "print(classification_report(y_test, y_pred1))"
   ]
  },
  {
   "cell_type": "markdown",
   "id": "7002f909",
   "metadata": {},
   "source": [
    "- Since model is not improving, we can discard the changes in the model."
   ]
  },
  {
   "cell_type": "markdown",
   "id": "b43907dc",
   "metadata": {},
   "source": [
    "## 4. Model Statistics:"
   ]
  },
  {
   "cell_type": "code",
   "execution_count": 32,
   "id": "70d12484",
   "metadata": {},
   "outputs": [
    {
     "name": "stdout",
     "output_type": "stream",
     "text": [
      "Model Score on Test data:  0.95\n"
     ]
    }
   ],
   "source": [
    "# Random Forest\n",
    "RF_cl = RandomForestClassifier(n_estimators = 72, criterion = 'entropy', random_state = 0)\n",
    "RF_cl.fit(X_train, y_train)\n",
    "\n",
    "# Predicting the Test set results \n",
    "y_pred = RF_cl.predict(X_test)\n",
    "print(\"Model Score on Test data: \",round(RF_cl.score(X_test,y_test),2))"
   ]
  },
  {
   "cell_type": "code",
   "execution_count": 33,
   "id": "f71225e4",
   "metadata": {},
   "outputs": [
    {
     "name": "stdout",
     "output_type": "stream",
     "text": [
      "           Model   AUC  Accuracy  Precision  Recall  F1 Score\n",
      "0  Random Forest  0.52      0.95       0.25    0.04      0.06\n"
     ]
    }
   ],
   "source": [
    "AUC = round(roc_auc_score(y_test, y_pred),2)\n",
    "acc = round(accuracy_score(y_test, y_pred),2)\n",
    "prec = round(precision_score(y_test, y_pred),2)\n",
    "rec = round(recall_score(y_test, y_pred ),2)\n",
    "f1 = round(f1_score(y_test, y_pred),2)\n",
    "\n",
    "\n",
    "model_results = pd.DataFrame([['Random Forest', AUC, acc, prec, rec, f1]], \n",
    "                             columns = ['Model', 'AUC' ,'Accuracy', 'Precision', 'Recall', 'F1 Score'])\n",
    "print(model_results)"
   ]
  },
  {
   "cell_type": "markdown",
   "id": "4f49a9cf",
   "metadata": {},
   "source": [
    "### 4.1 Statistics by class: "
   ]
  },
  {
   "cell_type": "code",
   "execution_count": 34,
   "id": "9523ad7d",
   "metadata": {},
   "outputs": [
    {
     "name": "stdout",
     "output_type": "stream",
     "text": [
      "              precision    recall  f1-score   support\n",
      "\n",
      "           0       0.95      0.99      0.97      1061\n",
      "           1       0.25      0.04      0.06        56\n",
      "\n",
      "    accuracy                           0.95      1117\n",
      "   macro avg       0.60      0.52      0.52      1117\n",
      "weighted avg       0.92      0.95      0.93      1117\n",
      "\n"
     ]
    }
   ],
   "source": [
    "print(classification_report(y_test, y_pred))"
   ]
  },
  {
   "cell_type": "markdown",
   "id": "d39322dc",
   "metadata": {},
   "source": [
    "### 4.2 Confusion Matrix:"
   ]
  },
  {
   "cell_type": "code",
   "execution_count": 35,
   "id": "90e86fee",
   "metadata": {},
   "outputs": [
    {
     "data": {
      "text/plain": [
       "Text(0.5, 16.0, 'Predicted label\\n')"
      ]
     },
     "execution_count": 35,
     "metadata": {},
     "output_type": "execute_result"
    },
    {
     "data": {
      "text/plain": [
       "<Figure size 2016x1440 with 0 Axes>"
      ]
     },
     "metadata": {},
     "output_type": "display_data"
    },
    {
     "data": {
      "image/png": "[encoded data removed]",
      "text/plain": [
       "<Figure size 432x288 with 2 Axes>"
      ]
     },
     "metadata": {
      "needs_background": "light"
     },
     "output_type": "display_data"
    }
   ],
   "source": [
    "cm = confusion_matrix(y_test, y_pred) #Actual predicted\n",
    "df_cm = pd.DataFrame(cm, index = (0, 1), columns = (0, 1))\n",
    "\n",
    "plt.figure(figsize = (28,20))\n",
    "\n",
    "fig, ax = plt.subplots()\n",
    "sn.set(font_scale=1.4)\n",
    "sn.heatmap(df_cm, annot=True, fmt='g', cmap=\"YlGnBu\" )\n",
    "\n",
    "class_names=[0,1]\n",
    "tick_marks = np.arange(len(class_names))\n",
    "plt.tight_layout()\n",
    "\n",
    "plt.title('Confusion matrix\\n', y=1.1)\n",
    "plt.xticks(tick_marks, class_names)\n",
    "plt.yticks(tick_marks, class_names)\n",
    "ax.xaxis.set_label_position(\"top\")\n",
    "plt.ylabel('Actual label\\n')\n",
    "plt.xlabel('Predicted label\\n')"
   ]
  },
  {
   "cell_type": "markdown",
   "id": "6cb84929",
   "metadata": {},
   "source": [
    " "
   ]
  },
  {
   "cell_type": "markdown",
   "id": "aa958089",
   "metadata": {},
   "source": [
    "## 5. Feature Importance:"
   ]
  },
  {
   "cell_type": "code",
   "execution_count": 36,
   "id": "b6168c8c",
   "metadata": {},
   "outputs": [
    {
     "data": {
      "image/png": "[encoded data removed]",
      "text/plain": [
       "<Figure size 720x576 with 1 Axes>"
      ]
     },
     "metadata": {},
     "output_type": "display_data"
    }
   ],
   "source": [
    "cols = [i for i in X.columns]\n",
    "importances = RF_cl.feature_importances_\n",
    "\n",
    "forest_importances = pd.Series(importances, index=cols).sort_values(ascending= False)\n",
    "\n",
    "std = np.std([tree.feature_importances_ for tree in RF_cl.estimators_], axis=0)\n",
    "\n",
    "fig, ax = plt.subplots(figsize = (10,8))\n",
    "\n",
    "forest_importances.plot.bar(yerr=std, ax=ax)\n",
    "ax.set_title(\"Feature importances using MDI\")\n",
    "ax.set_ylabel(\"Mean decrease in impurity\")\n",
    "fig.tight_layout()"
   ]
  },
  {
   "cell_type": "code",
   "execution_count": 37,
   "id": "36cddfc7",
   "metadata": {},
   "outputs": [
    {
     "data": {
      "text/plain": [
       "time_spent                     0.413725\n",
       "first_deposit_amount           0.274372\n",
       "Exp__limited_investment_exp    0.023776\n",
       "dtype: float64"
      ]
     },
     "execution_count": 37,
     "metadata": {},
     "output_type": "execute_result"
    }
   ],
   "source": [
    "forest_importances.head(3)"
   ]
  },
  {
   "cell_type": "markdown",
   "id": "288e6935",
   "metadata": {},
   "source": [
    "__Top 3 performing features:__\n",
    "   1. Time_spent\n",
    "   2. first_deposit_amount\n",
    "   3. Exp__limited_investment_exp "
   ]
  },
  {
   "cell_type": "markdown",
   "id": "b7e3a804",
   "metadata": {},
   "source": [
    "## 6. Conclusion:"
   ]
  },
  {
   "cell_type": "markdown",
   "id": "64e10c3e",
   "metadata": {},
   "source": [
    "1. Data is highly imbalanced.\n",
    "2. Highly correlated categorical features to the Churn user are **risk_tolerance, platform, first_deposit_amount**.\n",
    "3. Top 3 performing features are **Time_spent, first_deposit_amount, Exp__limited_investment_exp**.\n",
    "4. Model gives **52%** classification accuracy across both the classes. Data is imbalanced and undersampling/ oversampling couldn't boost up the perfornce of the model.   \n",
    "5. Precision of the model for class 0 and class 1 is **0.95, 0.25** respectively.\n",
    "6. Recall of the model is **0.99 and 0.04** for class 0 and class 1 respectively."
   ]
  }
 ],
 "metadata": {
  "kernelspec": {
   "display_name": "Python 3",
   "language": "python",
   "name": "python3"
  },
  "language_info": {
   "codemirror_mode": {
    "name": "ipython",
    "version": 3
   },
   "file_extension": ".py",
   "mimetype": "text/x-python",
   "name": "python",
   "nbconvert_exporter": "python",
   "pygments_lexer": "ipython3",
   "version": "3.9.1"
  }
 },
 "nbformat": 4,
 "nbformat_minor": 5
}
