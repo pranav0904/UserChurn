{
 "cells": [
  {
   "cell_type": "code",
   "execution_count": 1,
   "id": "2696f88c",
   "metadata": {},
   "outputs": [],
   "source": [
    "import pandas as pd\n",
    "import numpy as np\n",
    "from datetime import date\n",
    "\n",
    "from ctgan import CTGANSynthesizer\n",
    "from table_evaluator import load_data, TableEvaluator"
   ]
  },
  {
   "cell_type": "code",
   "execution_count": 6,
   "id": "17bbdacd",
   "metadata": {},
   "outputs": [],
   "source": [
    "import warnings\n",
    "warnings.filterwarnings('ignore')"
   ]
  },
  {
   "cell_type": "code",
   "execution_count": 2,
   "id": "939a868e",
   "metadata": {},
   "outputs": [],
   "source": [
    "features_data = pd.read_csv(\"features_data.csv\")\n",
    "equity_value_data = pd.read_csv(\"equity_value_data.csv\")"
   ]
  },
  {
   "cell_type": "code",
   "execution_count": 3,
   "id": "106ae22f",
   "metadata": {},
   "outputs": [],
   "source": [
    "'''Function to extract date in %%y-%%m-%%d'''\n",
    "def todate(timestamp):\n",
    "    \n",
    "    s = timestamp.split(\"-\")\n",
    "    year = s[0]\n",
    "    month = s[1]\n",
    "    date = s[2] \n",
    "    date = year+'-'+month+'-'+date[0]+date[1]\n",
    "    return date\n",
    "\n",
    "\n",
    "'''Function to get the difference between the dates'''\n",
    "def date_diff(date_,date1_):\n",
    "    \n",
    "    d = date_.split(\"-\")\n",
    "    d_ = date1_.split(\"-\")\n",
    "    \n",
    "    d0 = date(int(d[0]), int(d[1]), int(d[2]))\n",
    "    d1 = date(int(d_[0]), int(d_[1]), int(d_[2]))\n",
    "    delta = d1 - d0\n",
    "    return delta.days\n"
   ]
  },
  {
   "cell_type": "code",
   "execution_count": 4,
   "id": "09a15b55",
   "metadata": {},
   "outputs": [
    {
     "data": {
      "text/html": [
       "<div>\n",
       "<style scoped>\n",
       "    .dataframe tbody tr th:only-of-type {\n",
       "        vertical-align: middle;\n",
       "    }\n",
       "\n",
       "    .dataframe tbody tr th {\n",
       "        vertical-align: top;\n",
       "    }\n",
       "\n",
       "    .dataframe thead th {\n",
       "        text-align: right;\n",
       "    }\n",
       "</style>\n",
       "<table border=\"1\" class=\"dataframe\">\n",
       "  <thead>\n",
       "    <tr style=\"text-align: right;\">\n",
       "      <th></th>\n",
       "      <th>timestamp</th>\n",
       "      <th>close_equity</th>\n",
       "      <th>user_id</th>\n",
       "      <th>date</th>\n",
       "    </tr>\n",
       "  </thead>\n",
       "  <tbody>\n",
       "    <tr>\n",
       "      <th>0</th>\n",
       "      <td>2016-11-16T00:00:00Z</td>\n",
       "      <td>48.16</td>\n",
       "      <td>bcef4fa9b0bdf22bcf7deae708decf03</td>\n",
       "      <td>2016-11-16</td>\n",
       "    </tr>\n",
       "    <tr>\n",
       "      <th>1</th>\n",
       "      <td>2016-11-17T00:00:00Z</td>\n",
       "      <td>48.16</td>\n",
       "      <td>bcef4fa9b0bdf22bcf7deae708decf03</td>\n",
       "      <td>2016-11-17</td>\n",
       "    </tr>\n",
       "    <tr>\n",
       "      <th>2</th>\n",
       "      <td>2016-11-18T00:00:00Z</td>\n",
       "      <td>48.16</td>\n",
       "      <td>bcef4fa9b0bdf22bcf7deae708decf03</td>\n",
       "      <td>2016-11-18</td>\n",
       "    </tr>\n",
       "    <tr>\n",
       "      <th>3</th>\n",
       "      <td>2016-11-21T00:00:00Z</td>\n",
       "      <td>48.16</td>\n",
       "      <td>bcef4fa9b0bdf22bcf7deae708decf03</td>\n",
       "      <td>2016-11-21</td>\n",
       "    </tr>\n",
       "    <tr>\n",
       "      <th>4</th>\n",
       "      <td>2016-11-22T00:00:00Z</td>\n",
       "      <td>48.16</td>\n",
       "      <td>bcef4fa9b0bdf22bcf7deae708decf03</td>\n",
       "      <td>2016-11-22</td>\n",
       "    </tr>\n",
       "  </tbody>\n",
       "</table>\n",
       "</div>"
      ],
      "text/plain": [
       "              timestamp  close_equity                           user_id  \\\n",
       "0  2016-11-16T00:00:00Z         48.16  bcef4fa9b0bdf22bcf7deae708decf03   \n",
       "1  2016-11-17T00:00:00Z         48.16  bcef4fa9b0bdf22bcf7deae708decf03   \n",
       "2  2016-11-18T00:00:00Z         48.16  bcef4fa9b0bdf22bcf7deae708decf03   \n",
       "3  2016-11-21T00:00:00Z         48.16  bcef4fa9b0bdf22bcf7deae708decf03   \n",
       "4  2016-11-22T00:00:00Z         48.16  bcef4fa9b0bdf22bcf7deae708decf03   \n",
       "\n",
       "         date  \n",
       "0  2016-11-16  \n",
       "1  2016-11-17  \n",
       "2  2016-11-18  \n",
       "3  2016-11-21  \n",
       "4  2016-11-22  "
      ]
     },
     "execution_count": 4,
     "metadata": {},
     "output_type": "execute_result"
    }
   ],
   "source": [
    "'''To create date column in equity_value_data'''\n",
    "equity_value_data['date'] = equity_value_data['timestamp'].apply(todate)\n",
    "equity_value_data.head()"
   ]
  },
  {
   "cell_type": "code",
   "execution_count": 5,
   "id": "0124a642",
   "metadata": {},
   "outputs": [
    {
     "name": "stdout",
     "output_type": "stream",
     "text": [
      "Total user:  5584\n",
      "Total churn user:  279\n",
      "Percentage:  5.0 %\n",
      "Wall time: 23.6 s\n"
     ]
    }
   ],
   "source": [
    "%%time\n",
    "\n",
    "##############################################################################################################\n",
    "#####################  Calculating Churn user by applying 28 consecutive days condition  #####################\n",
    "##############################################################################################################\n",
    "\n",
    "cnt = 0\n",
    "\n",
    "#To save Churn users\n",
    "churn_user = []\n",
    "\n",
    "for i in range(len(equity_value_data['user_id'])-1):\n",
    "    \n",
    "    if equity_value_data['user_id'][i] == equity_value_data['user_id'][i+1]:\n",
    "        \n",
    "        days = date_diff(equity_value_data['date'][i],equity_value_data['date'][i+1])\n",
    "        \n",
    "        if days >=28 and (equity_value_data['user_id'][i] not in churn_user):\n",
    "            \n",
    "            churn_user.append(equity_value_data['user_id'][i])\n",
    "            cnt += 1\n",
    "\n",
    "            \n",
    "Total_User = len(features_data['user_id'])\n",
    "\n",
    "print(\"Total user: \", Total_User)\n",
    "print(\"Total churn user: \", cnt)\n",
    "print(\"Percentage: \",round(cnt / Total_User * 100, 2),\"%\")"
   ]
  },
  {
   "cell_type": "code",
   "execution_count": 7,
   "id": "35c9af83",
   "metadata": {},
   "outputs": [],
   "source": [
    "'''Adding Churn feature in the features_data'''\n",
    "\n",
    "features_data['Churn'] = 0\n",
    "for i in range(len(features_data['user_id'])):\n",
    "    if features_data['user_id'][i] not in churn_user:\n",
    "        features_data['Churn'][i] = 'No'\n",
    "    else:\n",
    "        features_data['Churn'][i] = 'Yes'     "
   ]
  },
  {
   "cell_type": "code",
   "execution_count": 8,
   "id": "e76d1eed",
   "metadata": {},
   "outputs": [
    {
     "data": {
      "text/html": [
       "<div>\n",
       "<style scoped>\n",
       "    .dataframe tbody tr th:only-of-type {\n",
       "        vertical-align: middle;\n",
       "    }\n",
       "\n",
       "    .dataframe tbody tr th {\n",
       "        vertical-align: top;\n",
       "    }\n",
       "\n",
       "    .dataframe thead th {\n",
       "        text-align: right;\n",
       "    }\n",
       "</style>\n",
       "<table border=\"1\" class=\"dataframe\">\n",
       "  <thead>\n",
       "    <tr style=\"text-align: right;\">\n",
       "      <th></th>\n",
       "      <th>risk_tolerance</th>\n",
       "      <th>investment_experience</th>\n",
       "      <th>liquidity_needs</th>\n",
       "      <th>platform</th>\n",
       "      <th>time_spent</th>\n",
       "      <th>instrument_type_first_traded</th>\n",
       "      <th>first_deposit_amount</th>\n",
       "      <th>time_horizon</th>\n",
       "      <th>user_id</th>\n",
       "      <th>Churn</th>\n",
       "    </tr>\n",
       "  </thead>\n",
       "  <tbody>\n",
       "    <tr>\n",
       "      <th>0</th>\n",
       "      <td>high_risk_tolerance</td>\n",
       "      <td>limited_investment_exp</td>\n",
       "      <td>very_important_liq_need</td>\n",
       "      <td>Android</td>\n",
       "      <td>33.129417</td>\n",
       "      <td>stock</td>\n",
       "      <td>40.0</td>\n",
       "      <td>med_time_horizon</td>\n",
       "      <td>895044c23edc821881e87da749c01034</td>\n",
       "      <td>No</td>\n",
       "    </tr>\n",
       "    <tr>\n",
       "      <th>1</th>\n",
       "      <td>med_risk_tolerance</td>\n",
       "      <td>limited_investment_exp</td>\n",
       "      <td>very_important_liq_need</td>\n",
       "      <td>Android</td>\n",
       "      <td>16.573517</td>\n",
       "      <td>stock</td>\n",
       "      <td>200.0</td>\n",
       "      <td>short_time_horizon</td>\n",
       "      <td>458b1d95441ced242949deefe8e4b638</td>\n",
       "      <td>No</td>\n",
       "    </tr>\n",
       "    <tr>\n",
       "      <th>2</th>\n",
       "      <td>med_risk_tolerance</td>\n",
       "      <td>limited_investment_exp</td>\n",
       "      <td>very_important_liq_need</td>\n",
       "      <td>iOS</td>\n",
       "      <td>10.008367</td>\n",
       "      <td>stock</td>\n",
       "      <td>25.0</td>\n",
       "      <td>long_time_horizon</td>\n",
       "      <td>c7936f653d293479e034865db9bb932f</td>\n",
       "      <td>No</td>\n",
       "    </tr>\n",
       "    <tr>\n",
       "      <th>3</th>\n",
       "      <td>med_risk_tolerance</td>\n",
       "      <td>limited_investment_exp</td>\n",
       "      <td>very_important_liq_need</td>\n",
       "      <td>Android</td>\n",
       "      <td>1.031633</td>\n",
       "      <td>stock</td>\n",
       "      <td>100.0</td>\n",
       "      <td>short_time_horizon</td>\n",
       "      <td>b255d4bd6c9ba194d3a350b3e76c6393</td>\n",
       "      <td>No</td>\n",
       "    </tr>\n",
       "    <tr>\n",
       "      <th>4</th>\n",
       "      <td>high_risk_tolerance</td>\n",
       "      <td>limited_investment_exp</td>\n",
       "      <td>very_important_liq_need</td>\n",
       "      <td>Android</td>\n",
       "      <td>8.187250</td>\n",
       "      <td>stock</td>\n",
       "      <td>20.0</td>\n",
       "      <td>long_time_horizon</td>\n",
       "      <td>4a168225e89375b8de605cbc0977ae91</td>\n",
       "      <td>No</td>\n",
       "    </tr>\n",
       "  </tbody>\n",
       "</table>\n",
       "</div>"
      ],
      "text/plain": [
       "        risk_tolerance   investment_experience          liquidity_needs  \\\n",
       "0  high_risk_tolerance  limited_investment_exp  very_important_liq_need   \n",
       "1   med_risk_tolerance  limited_investment_exp  very_important_liq_need   \n",
       "2   med_risk_tolerance  limited_investment_exp  very_important_liq_need   \n",
       "3   med_risk_tolerance  limited_investment_exp  very_important_liq_need   \n",
       "4  high_risk_tolerance  limited_investment_exp  very_important_liq_need   \n",
       "\n",
       "  platform  time_spent instrument_type_first_traded  first_deposit_amount  \\\n",
       "0  Android   33.129417                        stock                  40.0   \n",
       "1  Android   16.573517                        stock                 200.0   \n",
       "2      iOS   10.008367                        stock                  25.0   \n",
       "3  Android    1.031633                        stock                 100.0   \n",
       "4  Android    8.187250                        stock                  20.0   \n",
       "\n",
       "         time_horizon                           user_id Churn  \n",
       "0    med_time_horizon  895044c23edc821881e87da749c01034    No  \n",
       "1  short_time_horizon  458b1d95441ced242949deefe8e4b638    No  \n",
       "2   long_time_horizon  c7936f653d293479e034865db9bb932f    No  \n",
       "3  short_time_horizon  b255d4bd6c9ba194d3a350b3e76c6393    No  \n",
       "4   long_time_horizon  4a168225e89375b8de605cbc0977ae91    No  "
      ]
     },
     "execution_count": 8,
     "metadata": {},
     "output_type": "execute_result"
    }
   ],
   "source": [
    "data = features_data.copy()\n",
    "data.head()"
   ]
  },
  {
   "cell_type": "code",
   "execution_count": 9,
   "id": "a1b59efa",
   "metadata": {},
   "outputs": [],
   "source": [
    "data.drop('user_id', axis = 1, inplace= True)"
   ]
  },
  {
   "cell_type": "code",
   "execution_count": 10,
   "id": "2c5331b0",
   "metadata": {},
   "outputs": [],
   "source": [
    "categorical_features = ['risk_tolerance', 'investment_experience', 'liquidity_needs',\n",
    "       'platform', 'instrument_type_first_traded', 'time_horizon', 'Churn']"
   ]
  },
  {
   "cell_type": "code",
   "execution_count": 11,
   "id": "9407a932",
   "metadata": {},
   "outputs": [
    {
     "name": "stdout",
     "output_type": "stream",
     "text": [
      "Epoch 1, Loss G:  1.3516, Loss D: -0.1437\n",
      "Epoch 2, Loss G:  1.1147, Loss D: -0.5408\n",
      "Epoch 3, Loss G:  0.5772, Loss D: -0.3705\n",
      "Epoch 4, Loss G:  0.5602, Loss D: -0.2406\n",
      "Epoch 5, Loss G:  0.7514, Loss D: -0.0292\n",
      "Epoch 6, Loss G:  0.9225, Loss D: -0.1064\n",
      "Epoch 7, Loss G:  0.6510, Loss D: -0.0281\n",
      "Epoch 8, Loss G:  0.6055, Loss D:  0.0672\n",
      "Epoch 9, Loss G:  0.5385, Loss D:  0.1703\n",
      "Epoch 10, Loss G:  0.5306, Loss D: -0.0354\n",
      "Epoch 11, Loss G:  0.5784, Loss D: -0.1107\n",
      "Epoch 12, Loss G:  0.2695, Loss D: -0.0701\n",
      "Epoch 13, Loss G:  0.2130, Loss D:  0.1138\n",
      "Epoch 14, Loss G:  0.2568, Loss D: -0.0003\n",
      "Epoch 15, Loss G:  0.4089, Loss D:  0.0390\n",
      "Epoch 16, Loss G:  0.4213, Loss D: -0.0607\n",
      "Epoch 17, Loss G:  0.5184, Loss D:  0.0177\n",
      "Epoch 18, Loss G:  0.3438, Loss D:  0.1486\n",
      "Epoch 19, Loss G:  0.1660, Loss D: -0.0632\n",
      "Epoch 20, Loss G: -0.0663, Loss D:  0.0634\n",
      "Epoch 21, Loss G: -0.2298, Loss D:  0.1459\n",
      "Epoch 22, Loss G: -0.0698, Loss D:  0.0601\n",
      "Epoch 23, Loss G:  0.0209, Loss D: -0.0523\n",
      "Epoch 24, Loss G: -0.0200, Loss D:  0.0474\n",
      "Epoch 25, Loss G: -0.1043, Loss D:  0.0501\n",
      "Epoch 26, Loss G: -0.2318, Loss D: -0.1621\n",
      "Epoch 27, Loss G: -0.2846, Loss D:  0.2618\n",
      "Epoch 28, Loss G: -0.0957, Loss D: -0.0334\n",
      "Epoch 29, Loss G: -0.0253, Loss D: -0.1199\n",
      "Epoch 30, Loss G: -0.2124, Loss D:  0.1285\n",
      "Epoch 31, Loss G: -0.1957, Loss D: -0.0970\n",
      "Epoch 32, Loss G: -0.3025, Loss D:  0.1002\n",
      "Epoch 33, Loss G: -0.3120, Loss D: -0.0069\n",
      "Epoch 34, Loss G: -0.0174, Loss D: -0.0379\n",
      "Epoch 35, Loss G: -0.1638, Loss D: -0.0341\n",
      "Epoch 36, Loss G: -0.1723, Loss D: -0.0973\n",
      "Epoch 37, Loss G: -0.3194, Loss D:  0.0641\n",
      "Epoch 38, Loss G: -0.2670, Loss D: -0.1392\n",
      "Epoch 39, Loss G: -0.2344, Loss D:  0.0034\n",
      "Epoch 40, Loss G: -0.3427, Loss D:  0.0701\n",
      "Epoch 41, Loss G: -0.3657, Loss D: -0.1719\n",
      "Epoch 42, Loss G: -0.7667, Loss D: -0.0101\n",
      "Epoch 43, Loss G: -0.6610, Loss D: -0.0217\n",
      "Epoch 44, Loss G: -0.5914, Loss D: -0.0263\n",
      "Epoch 45, Loss G: -0.7460, Loss D:  0.0817\n",
      "Epoch 46, Loss G: -0.7499, Loss D: -0.0413\n",
      "Epoch 47, Loss G: -0.6875, Loss D:  0.0312\n",
      "Epoch 48, Loss G: -0.6816, Loss D: -0.0339\n",
      "Epoch 49, Loss G: -0.6888, Loss D: -0.0893\n",
      "Epoch 50, Loss G: -0.7581, Loss D:  0.0437\n",
      "Epoch 51, Loss G: -0.5666, Loss D: -0.0913\n",
      "Epoch 52, Loss G: -0.5911, Loss D: -0.1612\n",
      "Epoch 53, Loss G: -0.5529, Loss D: -0.0152\n",
      "Epoch 54, Loss G: -0.8668, Loss D:  0.1439\n",
      "Epoch 55, Loss G: -0.8471, Loss D: -0.1264\n",
      "Epoch 56, Loss G: -1.0493, Loss D: -0.1131\n",
      "Epoch 57, Loss G: -1.2010, Loss D:  0.1010\n",
      "Epoch 58, Loss G: -0.8230, Loss D: -0.0385\n",
      "Epoch 59, Loss G: -0.7996, Loss D:  0.0340\n",
      "Epoch 60, Loss G: -1.0430, Loss D:  0.0702\n",
      "Epoch 61, Loss G: -0.9658, Loss D: -0.1034\n",
      "Epoch 62, Loss G: -1.2696, Loss D: -0.0479\n",
      "Epoch 63, Loss G: -1.4792, Loss D:  0.1178\n",
      "Epoch 64, Loss G: -1.1985, Loss D:  0.0246\n",
      "Epoch 65, Loss G: -0.9430, Loss D: -0.0250\n",
      "Epoch 66, Loss G: -1.0829, Loss D:  0.0780\n",
      "Epoch 67, Loss G: -1.2014, Loss D: -0.1298\n",
      "Epoch 68, Loss G: -1.1515, Loss D: -0.2050\n",
      "Epoch 69, Loss G: -1.2972, Loss D: -0.0337\n",
      "Epoch 70, Loss G: -1.4265, Loss D: -0.0352\n",
      "Epoch 71, Loss G: -1.2596, Loss D:  0.0617\n",
      "Epoch 72, Loss G: -1.3818, Loss D:  0.0684\n",
      "Epoch 73, Loss G: -1.4167, Loss D: -0.0684\n",
      "Epoch 74, Loss G: -1.5173, Loss D:  0.1870\n",
      "Epoch 75, Loss G: -1.4177, Loss D: -0.0007\n",
      "Epoch 76, Loss G: -1.3773, Loss D: -0.0149\n",
      "Epoch 77, Loss G: -1.3306, Loss D:  0.0062\n",
      "Epoch 78, Loss G: -1.4422, Loss D:  0.0546\n",
      "Epoch 79, Loss G: -1.5815, Loss D: -0.0283\n",
      "Epoch 80, Loss G: -1.6509, Loss D:  0.0562\n",
      "Epoch 81, Loss G: -1.5396, Loss D: -0.0589\n",
      "Epoch 82, Loss G: -1.4130, Loss D:  0.0654\n",
      "Epoch 83, Loss G: -1.3530, Loss D: -0.0270\n",
      "Epoch 84, Loss G: -1.3394, Loss D: -0.0263\n",
      "Epoch 85, Loss G: -1.4303, Loss D: -0.0082\n",
      "Epoch 86, Loss G: -1.5484, Loss D:  0.0878\n",
      "Epoch 87, Loss G: -1.5343, Loss D:  0.1280\n",
      "Epoch 88, Loss G: -1.5232, Loss D:  0.0763\n",
      "Epoch 89, Loss G: -1.4123, Loss D: -0.2057\n",
      "Epoch 90, Loss G: -1.5330, Loss D:  0.0022\n",
      "Epoch 91, Loss G: -1.6244, Loss D: -0.1194\n",
      "Epoch 92, Loss G: -1.7982, Loss D: -0.0701\n",
      "Epoch 93, Loss G: -1.8482, Loss D: -0.1009\n",
      "Epoch 94, Loss G: -1.7261, Loss D: -0.0373\n",
      "Epoch 95, Loss G: -1.3364, Loss D:  0.1314\n",
      "Epoch 96, Loss G: -1.2666, Loss D: -0.0494\n",
      "Epoch 97, Loss G: -1.3880, Loss D:  0.1032\n",
      "Epoch 98, Loss G: -1.4567, Loss D: -0.0871\n",
      "Epoch 99, Loss G: -1.6831, Loss D: -0.0752\n",
      "Epoch 100, Loss G: -1.7811, Loss D:  0.0095\n"
     ]
    }
   ],
   "source": [
    "ctgan = CTGANSynthesizer(verbose=True)\n",
    "ctgan.fit(data, categorical_features, epochs = 100)"
   ]
  },
  {
   "cell_type": "code",
   "execution_count": 12,
   "id": "e6a8df4d",
   "metadata": {},
   "outputs": [],
   "source": [
    "conditions = {\"Churn\": 1}"
   ]
  },
  {
   "cell_type": "code",
   "execution_count": 13,
   "id": "04d54bf0",
   "metadata": {},
   "outputs": [],
   "source": [
    "samples = ctgan.sample(5584,condition_column=conditions)"
   ]
  },
  {
   "cell_type": "code",
   "execution_count": 14,
   "id": "73c0e177",
   "metadata": {},
   "outputs": [
    {
     "name": "stdout",
     "output_type": "stream",
     "text": [
      "No     5156\n",
      "Yes     428\n",
      "Name: Churn, dtype: int64\n"
     ]
    }
   ],
   "source": [
    "print(samples[\"Churn\"].value_counts())"
   ]
  },
  {
   "cell_type": "code",
   "execution_count": 15,
   "id": "b0e3413a",
   "metadata": {},
   "outputs": [
    {
     "name": "stdout",
     "output_type": "stream",
     "text": [
      "No     5305\n",
      "Yes     279\n",
      "Name: Churn, dtype: int64\n"
     ]
    }
   ],
   "source": [
    "print(data[\"Churn\"].value_counts())"
   ]
  },
  {
   "cell_type": "code",
   "execution_count": 16,
   "id": "63e70412",
   "metadata": {},
   "outputs": [],
   "source": [
    "from table_evaluator import load_data, TableEvaluator"
   ]
  },
  {
   "cell_type": "code",
   "execution_count": 17,
   "id": "6400f6c2",
   "metadata": {},
   "outputs": [],
   "source": [
    "table_evaluator =  TableEvaluator(data, samples, cat_cols= categorical_features)"
   ]
  },
  {
   "cell_type": "code",
   "execution_count": 18,
   "id": "1e38862b",
   "metadata": {},
   "outputs": [
    {
     "name": "stdout",
     "output_type": "stream",
     "text": [
      "\n",
      "Classifier F1-scores and their Jaccard similarities::\n",
      "                             f1_real  f1_fake  jaccard_similarity\n",
      "index                                                            \n",
      "DecisionTreeClassifier_fake   0.8299   0.8496              0.6835\n",
      "DecisionTreeClassifier_real   0.8800   0.8747              0.7688\n",
      "LogisticRegression_fake       0.9266   0.9266              1.0000\n",
      "LogisticRegression_real       0.9382   0.9373              0.9982\n",
      "MLPClassifier_fake            0.9266   0.9266              1.0000\n",
      "MLPClassifier_real            0.9382   0.9382              1.0000\n",
      "RandomForestClassifier_fake   0.9114   0.9176              0.9528\n",
      "RandomForestClassifier_real   0.9311   0.9293              0.9683\n",
      "\n",
      "Privacy results:\n",
      "                                           result\n",
      "Duplicate rows between sets (real/fake)  (634, 0)\n",
      "nearest neighbor mean                      0.6271\n",
      "nearest neighbor std                       0.8045\n",
      "\n",
      "Miscellaneous results:\n",
      "                                  Result\n",
      "Column Correlation Distance RMSE  0.0238\n",
      "Column Correlation distance MAE   0.0117\n",
      "\n",
      "Results:\n",
      "                                                result\n",
      "Basic statistics                                0.9762\n",
      "Correlation column correlations                 0.4355\n",
      "Mean Correlation between fake and real columns  0.6877\n",
      "1 - MAPE Estimator results                      0.9951\n",
      "Similarity Score                                0.7736\n"
     ]
    }
   ],
   "source": [
    "table_evaluator.evaluate(target_col = 'Churn')"
   ]
  },
  {
   "cell_type": "code",
   "execution_count": 22,
   "id": "8caee742",
   "metadata": {},
   "outputs": [],
   "source": [
    "samples.to_csv('synthetic.csv', sep='\\t')"
   ]
  },
  {
   "cell_type": "code",
   "execution_count": null,
   "id": "037e89c7",
   "metadata": {},
   "outputs": [],
   "source": []
  }
 ],
 "metadata": {
  "kernelspec": {
   "display_name": "Python 3 (ipykernel)",
   "language": "python",
   "name": "python3"
  },
  "language_info": {
   "codemirror_mode": {
    "name": "ipython",
    "version": 3
   },
   "file_extension": ".py",
   "mimetype": "text/x-python",
   "name": "python",
   "nbconvert_exporter": "python",
   "pygments_lexer": "ipython3",
   "version": "3.9.7"
  }
 },
 "nbformat": 4,
 "nbformat_minor": 5
}
